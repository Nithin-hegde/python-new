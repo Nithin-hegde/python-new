{
 "cells": [
  {
   "cell_type": "code",
   "execution_count": 1,
   "id": "54d3cbb5",
   "metadata": {},
   "outputs": [],
   "source": [
    "a = 'nithin is from sirsi'"
   ]
  },
  {
   "cell_type": "code",
   "execution_count": 2,
   "id": "d33eb73e",
   "metadata": {},
   "outputs": [
    {
     "data": {
      "text/plain": [
       "str"
      ]
     },
     "execution_count": 2,
     "metadata": {},
     "output_type": "execute_result"
    }
   ],
   "source": [
    "type(a)"
   ]
  },
  {
   "cell_type": "code",
   "execution_count": 3,
   "id": "93a2ee59",
   "metadata": {},
   "outputs": [
    {
     "data": {
      "text/plain": [
       "'n'"
      ]
     },
     "execution_count": 3,
     "metadata": {},
     "output_type": "execute_result"
    }
   ],
   "source": [
    "a[0]"
   ]
  },
  {
   "cell_type": "code",
   "execution_count": 4,
   "id": "fb315877",
   "metadata": {},
   "outputs": [
    {
     "data": {
      "text/plain": [
       "' '"
      ]
     },
     "execution_count": 4,
     "metadata": {},
     "output_type": "execute_result"
    }
   ],
   "source": [
    "a[6]"
   ]
  },
  {
   "cell_type": "code",
   "execution_count": 5,
   "id": "71b99fc3",
   "metadata": {},
   "outputs": [
    {
     "data": {
      "text/plain": [
       "'i'"
      ]
     },
     "execution_count": 5,
     "metadata": {},
     "output_type": "execute_result"
    }
   ],
   "source": [
    "a[7]"
   ]
  },
  {
   "cell_type": "code",
   "execution_count": 6,
   "id": "bfa3953d",
   "metadata": {},
   "outputs": [
    {
     "data": {
      "text/plain": [
       "'i'"
      ]
     },
     "execution_count": 6,
     "metadata": {},
     "output_type": "execute_result"
    }
   ],
   "source": [
    "a[-1]"
   ]
  },
  {
   "cell_type": "code",
   "execution_count": 7,
   "id": "5963f657",
   "metadata": {},
   "outputs": [
    {
     "data": {
      "text/plain": [
       "'r'"
      ]
     },
     "execution_count": 7,
     "metadata": {},
     "output_type": "execute_result"
    }
   ],
   "source": [
    "a[-3]"
   ]
  },
  {
   "cell_type": "code",
   "execution_count": 10,
   "id": "c8ba6634",
   "metadata": {},
   "outputs": [],
   "source": [
    "a2= \"this is my first programming class's\""
   ]
  },
  {
   "cell_type": "code",
   "execution_count": 12,
   "id": "939f4c1f",
   "metadata": {},
   "outputs": [
    {
     "data": {
      "text/plain": [
       "'r'"
      ]
     },
     "execution_count": 12,
     "metadata": {},
     "output_type": "execute_result"
    }
   ],
   "source": [
    "a2[13]"
   ]
  },
  {
   "cell_type": "code",
   "execution_count": 13,
   "id": "49005874",
   "metadata": {},
   "outputs": [
    {
     "data": {
      "text/plain": [
       "'s'"
      ]
     },
     "execution_count": 13,
     "metadata": {},
     "output_type": "execute_result"
    }
   ],
   "source": [
    "a2[-1]"
   ]
  },
  {
   "cell_type": "code",
   "execution_count": 14,
   "id": "026fff4d",
   "metadata": {},
   "outputs": [
    {
     "data": {
      "text/plain": [
       "\"'\""
      ]
     },
     "execution_count": 14,
     "metadata": {},
     "output_type": "execute_result"
    }
   ],
   "source": [
    "a2[-2]"
   ]
  },
  {
   "cell_type": "code",
   "execution_count": 16,
   "id": "367f5adb",
   "metadata": {},
   "outputs": [
    {
     "data": {
      "text/plain": [
       "'this '"
      ]
     },
     "execution_count": 16,
     "metadata": {},
     "output_type": "execute_result"
    }
   ],
   "source": [
    "a2[0:5]"
   ]
  },
  {
   "cell_type": "code",
   "execution_count": 17,
   "id": "cad7a057",
   "metadata": {},
   "outputs": [
    {
     "data": {
      "text/plain": [
       "'his i'"
      ]
     },
     "execution_count": 17,
     "metadata": {},
     "output_type": "execute_result"
    }
   ],
   "source": [
    "a2[1:6]"
   ]
  },
  {
   "cell_type": "code",
   "execution_count": 30,
   "id": "ba49bb3e",
   "metadata": {},
   "outputs": [],
   "source": [
    "z= 'nithin is bright'"
   ]
  },
  {
   "cell_type": "code",
   "execution_count": 31,
   "id": "1b7850ad",
   "metadata": {},
   "outputs": [
    {
     "data": {
      "text/plain": [
       "''"
      ]
     },
     "execution_count": 31,
     "metadata": {},
     "output_type": "execute_result"
    }
   ],
   "source": [
    "z[-1:-4]"
   ]
  },
  {
   "cell_type": "code",
   "execution_count": 33,
   "id": "dab21031",
   "metadata": {},
   "outputs": [
    {
     "data": {
      "text/plain": [
       "'nh '"
      ]
     },
     "execution_count": 33,
     "metadata": {},
     "output_type": "execute_result"
    }
   ],
   "source": [
    "z[0:9:3]"
   ]
  },
  {
   "cell_type": "code",
   "execution_count": 27,
   "id": "49f005de",
   "metadata": {},
   "outputs": [],
   "source": [
    "c = 'nagendra'"
   ]
  },
  {
   "cell_type": "code",
   "execution_count": 29,
   "id": "63f018f0",
   "metadata": {},
   "outputs": [
    {
     "data": {
      "text/plain": [
       "'ngn'"
      ]
     },
     "execution_count": 29,
     "metadata": {},
     "output_type": "execute_result"
    }
   ],
   "source": [
    "c[0:5:2]"
   ]
  },
  {
   "cell_type": "code",
   "execution_count": 35,
   "id": "06b911e8",
   "metadata": {},
   "outputs": [
    {
     "data": {
      "text/plain": [
       "''"
      ]
     },
     "execution_count": 35,
     "metadata": {},
     "output_type": "execute_result"
    }
   ],
   "source": [
    "a[0:7:-1]"
   ]
  },
  {
   "cell_type": "code",
   "execution_count": 38,
   "id": "59d9d1c0",
   "metadata": {},
   "outputs": [
    {
     "data": {
      "text/plain": [
       "'ardnega'"
      ]
     },
     "execution_count": 38,
     "metadata": {},
     "output_type": "execute_result"
    }
   ],
   "source": [
    "c[7:0:-1]"
   ]
  },
  {
   "cell_type": "code",
   "execution_count": 39,
   "id": "0061d038",
   "metadata": {},
   "outputs": [
    {
     "data": {
      "text/plain": [
       "'adea'"
      ]
     },
     "execution_count": 39,
     "metadata": {},
     "output_type": "execute_result"
    }
   ],
   "source": [
    "c[7:0:-2]"
   ]
  },
  {
   "cell_type": "code",
   "execution_count": 41,
   "id": "79e4e5ca",
   "metadata": {},
   "outputs": [
    {
     "data": {
      "text/plain": [
       "'nagendra'"
      ]
     },
     "execution_count": 41,
     "metadata": {},
     "output_type": "execute_result"
    }
   ],
   "source": [
    "c"
   ]
  },
  {
   "cell_type": "code",
   "execution_count": 42,
   "id": "0f4187fd",
   "metadata": {},
   "outputs": [
    {
     "data": {
      "text/plain": [
       "'nagen'"
      ]
     },
     "execution_count": 42,
     "metadata": {},
     "output_type": "execute_result"
    }
   ],
   "source": [
    "c[:-3]"
   ]
  },
  {
   "cell_type": "code",
   "execution_count": 50,
   "id": "739a70a2",
   "metadata": {},
   "outputs": [
    {
     "data": {
      "text/plain": [
       "'dra'"
      ]
     },
     "execution_count": 50,
     "metadata": {},
     "output_type": "execute_result"
    }
   ],
   "source": [
    "c[-3:]"
   ]
  },
  {
   "cell_type": "code",
   "execution_count": 53,
   "id": "4195e8b1",
   "metadata": {},
   "outputs": [
    {
     "data": {
      "text/plain": [
       "'nagendra'"
      ]
     },
     "execution_count": 53,
     "metadata": {},
     "output_type": "execute_result"
    }
   ],
   "source": [
    "c[::1]"
   ]
  },
  {
   "cell_type": "code",
   "execution_count": 54,
   "id": "03733e2a",
   "metadata": {},
   "outputs": [
    {
     "data": {
      "text/plain": [
       "'ardnegan'"
      ]
     },
     "execution_count": 54,
     "metadata": {},
     "output_type": "execute_result"
    }
   ],
   "source": [
    "c[::-1] "
   ]
  },
  {
   "cell_type": "code",
   "execution_count": 58,
   "id": "a9dddd0d",
   "metadata": {},
   "outputs": [],
   "source": [
    "c2 = 'i love you'"
   ]
  },
  {
   "cell_type": "code",
   "execution_count": 56,
   "id": "964bfafe",
   "metadata": {},
   "outputs": [
    {
     "data": {
      "text/plain": [
       "'uoy evol i '"
      ]
     },
     "execution_count": 56,
     "metadata": {},
     "output_type": "execute_result"
    }
   ],
   "source": [
    "c2[::-1]"
   ]
  },
  {
   "cell_type": "code",
   "execution_count": 63,
   "id": "737f1982",
   "metadata": {},
   "outputs": [
    {
     "data": {
      "text/plain": [
       "'uoy evol i'"
      ]
     },
     "execution_count": 63,
     "metadata": {},
     "output_type": "execute_result"
    }
   ],
   "source": [
    "c2[::-1]"
   ]
  },
  {
   "cell_type": "code",
   "execution_count": 64,
   "id": "9ccdf78a",
   "metadata": {},
   "outputs": [
    {
     "data": {
      "text/plain": [
       "'nagendra'"
      ]
     },
     "execution_count": 64,
     "metadata": {},
     "output_type": "execute_result"
    }
   ],
   "source": [
    "c"
   ]
  },
  {
   "cell_type": "code",
   "execution_count": 65,
   "id": "cac024c3",
   "metadata": {},
   "outputs": [
    {
     "data": {
      "text/plain": [
       "''"
      ]
     },
     "execution_count": 65,
     "metadata": {},
     "output_type": "execute_result"
    }
   ],
   "source": [
    "c[-2:-7:1]"
   ]
  },
  {
   "cell_type": "code",
   "execution_count": 5,
   "id": "e054a782",
   "metadata": {},
   "outputs": [],
   "source": [
    "c = 'nagendra'"
   ]
  },
  {
   "cell_type": "code",
   "execution_count": 7,
   "id": "44081ed8",
   "metadata": {},
   "outputs": [
    {
     "data": {
      "text/plain": [
       "'agend'"
      ]
     },
     "execution_count": 7,
     "metadata": {},
     "output_type": "execute_result"
    }
   ],
   "source": [
    "c[-7:-2:1]"
   ]
  },
  {
   "cell_type": "code",
   "execution_count": 2,
   "id": "06fa3e7e",
   "metadata": {},
   "outputs": [],
   "source": [
    "a = 'nagendra'"
   ]
  },
  {
   "cell_type": "code",
   "execution_count": 3,
   "id": "b0d858a5",
   "metadata": {},
   "outputs": [
    {
     "data": {
      "text/plain": [
       "''"
      ]
     },
     "execution_count": 3,
     "metadata": {},
     "output_type": "execute_result"
    }
   ],
   "source": [
    "a[5:0]"
   ]
  },
  {
   "cell_type": "code",
   "execution_count": 4,
   "id": "c6e64733",
   "metadata": {},
   "outputs": [
    {
     "data": {
      "text/plain": [
       "'agendr'"
      ]
     },
     "execution_count": 4,
     "metadata": {},
     "output_type": "execute_result"
    }
   ],
   "source": [
    "a[-7:-1:1]"
   ]
  },
  {
   "cell_type": "code",
   "execution_count": 5,
   "id": "b2818e2e",
   "metadata": {},
   "outputs": [
    {
     "data": {
      "text/plain": [
       "''"
      ]
     },
     "execution_count": 5,
     "metadata": {},
     "output_type": "execute_result"
    }
   ],
   "source": [
    "a[-7:0:1]"
   ]
  },
  {
   "cell_type": "code",
   "execution_count": 6,
   "id": "fc2a0e46",
   "metadata": {},
   "outputs": [
    {
     "data": {
      "text/plain": [
       "'agend'"
      ]
     },
     "execution_count": 6,
     "metadata": {},
     "output_type": "execute_result"
    }
   ],
   "source": [
    "a[-7:-2:1]"
   ]
  },
  {
   "cell_type": "code",
   "execution_count": 7,
   "id": "bf2eaaca",
   "metadata": {},
   "outputs": [
    {
     "data": {
      "text/plain": [
       "''"
      ]
     },
     "execution_count": 7,
     "metadata": {},
     "output_type": "execute_result"
    }
   ],
   "source": [
    "a[-7:-2:-1]"
   ]
  },
  {
   "cell_type": "code",
   "execution_count": 8,
   "id": "f42273a9",
   "metadata": {},
   "outputs": [
    {
     "data": {
      "text/plain": [
       "''"
      ]
     },
     "execution_count": 8,
     "metadata": {},
     "output_type": "execute_result"
    }
   ],
   "source": [
    "a[:-1:-1]"
   ]
  },
  {
   "cell_type": "code",
   "execution_count": 10,
   "id": "704bbb39",
   "metadata": {},
   "outputs": [
    {
     "data": {
      "text/plain": [
       "'nagendra1'"
      ]
     },
     "execution_count": 10,
     "metadata": {},
     "output_type": "execute_result"
    }
   ],
   "source": [
    "a + '1'"
   ]
  },
  {
   "cell_type": "code",
   "execution_count": 11,
   "id": "d5a460bc",
   "metadata": {},
   "outputs": [
    {
     "ename": "TypeError",
     "evalue": "can only concatenate str (not \"int\") to str",
     "output_type": "error",
     "traceback": [
      "\u001b[1;31m---------------------------------------------------------------------------\u001b[0m",
      "\u001b[1;31mTypeError\u001b[0m                                 Traceback (most recent call last)",
      "Input \u001b[1;32mIn [11]\u001b[0m, in \u001b[0;36m<cell line: 1>\u001b[1;34m()\u001b[0m\n\u001b[1;32m----> 1\u001b[0m \u001b[43ma\u001b[49m\u001b[43m \u001b[49m\u001b[38;5;241;43m+\u001b[39;49m\u001b[43m \u001b[49m\u001b[38;5;241;43m2\u001b[39;49m\n",
      "\u001b[1;31mTypeError\u001b[0m: can only concatenate str (not \"int\") to str"
     ]
    }
   ],
   "source": [
    "a + 2"
   ]
  },
  {
   "cell_type": "code",
   "execution_count": 15,
   "id": "a17b63a6",
   "metadata": {},
   "outputs": [
    {
     "data": {
      "text/plain": [
       "'nagendra42.5'"
      ]
     },
     "execution_count": 15,
     "metadata": {},
     "output_type": "execute_result"
    }
   ],
   "source": [
    "a + '42.5'"
   ]
  },
  {
   "cell_type": "code",
   "execution_count": 18,
   "id": "648d8976",
   "metadata": {},
   "outputs": [
    {
     "data": {
      "text/plain": [
       "'nagendraTrue'"
      ]
     },
     "execution_count": 18,
     "metadata": {},
     "output_type": "execute_result"
    }
   ],
   "source": [
    "a + str(True)"
   ]
  },
  {
   "cell_type": "code",
   "execution_count": 19,
   "id": "9bca9290",
   "metadata": {},
   "outputs": [
    {
     "data": {
      "text/plain": [
       "'nagendraFalse'"
      ]
     },
     "execution_count": 19,
     "metadata": {},
     "output_type": "execute_result"
    }
   ],
   "source": [
    "a + \"False\""
   ]
  },
  {
   "cell_type": "code",
   "execution_count": 20,
   "id": "39597e49",
   "metadata": {},
   "outputs": [
    {
     "data": {
      "text/plain": [
       "8"
      ]
     },
     "execution_count": 20,
     "metadata": {},
     "output_type": "execute_result"
    }
   ],
   "source": [
    "len(a)"
   ]
  },
  {
   "cell_type": "code",
   "execution_count": 23,
   "id": "7822cdde",
   "metadata": {},
   "outputs": [],
   "source": [
    "d = a * 4"
   ]
  },
  {
   "cell_type": "code",
   "execution_count": 24,
   "id": "c2284b98",
   "metadata": {},
   "outputs": [
    {
     "data": {
      "text/plain": [
       "32"
      ]
     },
     "execution_count": 24,
     "metadata": {},
     "output_type": "execute_result"
    }
   ],
   "source": [
    "len(d)"
   ]
  },
  {
   "cell_type": "code",
   "execution_count": 26,
   "id": "d442746a",
   "metadata": {},
   "outputs": [
    {
     "data": {
      "text/plain": [
       "'nagendra'"
      ]
     },
     "execution_count": 26,
     "metadata": {},
     "output_type": "execute_result"
    }
   ],
   "source": [
    "a"
   ]
  },
  {
   "cell_type": "code",
   "execution_count": 25,
   "id": "3a0c2f70",
   "metadata": {},
   "outputs": [
    {
     "data": {
      "text/plain": [
       "2"
      ]
     },
     "execution_count": 25,
     "metadata": {},
     "output_type": "execute_result"
    }
   ],
   "source": [
    "a.count(\"a\")"
   ]
  },
  {
   "cell_type": "code",
   "execution_count": 29,
   "id": "07c23d13",
   "metadata": {},
   "outputs": [
    {
     "data": {
      "text/plain": [
       "2"
      ]
     },
     "execution_count": 29,
     "metadata": {},
     "output_type": "execute_result"
    }
   ],
   "source": [
    "a.count('n')"
   ]
  },
  {
   "cell_type": "code",
   "execution_count": 30,
   "id": "10cc1cbe",
   "metadata": {},
   "outputs": [
    {
     "data": {
      "text/plain": [
       "['', 'age', 'dra']"
      ]
     },
     "execution_count": 30,
     "metadata": {},
     "output_type": "execute_result"
    }
   ],
   "source": [
    "a.split('n')"
   ]
  },
  {
   "cell_type": "code",
   "execution_count": 33,
   "id": "6d3588b2",
   "metadata": {},
   "outputs": [
    {
     "data": {
      "text/plain": [
       "list"
      ]
     },
     "execution_count": 33,
     "metadata": {},
     "output_type": "execute_result"
    }
   ],
   "source": [
    "type(a.split('n'))"
   ]
  },
  {
   "cell_type": "code",
   "execution_count": 31,
   "id": "b4668eaf",
   "metadata": {},
   "outputs": [
    {
     "data": {
      "text/plain": [
       "'nagendra'"
      ]
     },
     "execution_count": 31,
     "metadata": {},
     "output_type": "execute_result"
    }
   ],
   "source": [
    "a"
   ]
  },
  {
   "cell_type": "code",
   "execution_count": 35,
   "id": "b07502e2",
   "metadata": {},
   "outputs": [
    {
     "data": {
      "text/plain": [
       "['na', 'endra']"
      ]
     },
     "execution_count": 35,
     "metadata": {},
     "output_type": "execute_result"
    }
   ],
   "source": [
    "a.split('g')"
   ]
  },
  {
   "cell_type": "code",
   "execution_count": 38,
   "id": "fc300941",
   "metadata": {},
   "outputs": [],
   "source": [
    "sm = \"The Samsung Group[3] (or simply Samsung, stylized as SΛMSUNG) (Korean: 삼성 [samsʌŋ]) is a South Korean multinational manufacturing conglomerate headquartered in Samsung Town, Seoul, South Korea.[1] It comprises numerous affiliated businesses,[1] most of them united under the Samsung brand, and is the largest South Korean chaebol (business conglomerate). As of 2020, Samsung has the 8th highest global brand value.\""
   ]
  },
  {
   "cell_type": "code",
   "execution_count": 39,
   "id": "ae5d674a",
   "metadata": {},
   "outputs": [
    {
     "data": {
      "text/plain": [
       "['The Samsung Group[3] (or simply Samsung, stylized as SΛMSUNG) (Korean: 삼성 [samsʌŋ]) is a South Korean multinational manufacturing conglomerate headquartered in Samsung Town, Seoul, South Korea.[1] It comprises numerous affiliated businesses,[1] most of them united under the Samsung brand, and is the largest South Korean chaebol (business conglomerate). As of 2020, Samsung has the 8th highest global brand value.']"
      ]
     },
     "execution_count": 39,
     "metadata": {},
     "output_type": "execute_result"
    }
   ],
   "source": [
    "sm.split('  ')"
   ]
  },
  {
   "cell_type": "code",
   "execution_count": 41,
   "id": "b7e7c4c1",
   "metadata": {},
   "outputs": [],
   "source": [
    "ss = \"\"\"The Samsung Group[3] (or simply Samsung, stylized as SΛMSUNG) (Korean: 삼성 [samsʌŋ]) is a South Korean multinational manufacturing conglomerate headquartered in Samsung Town, Seoul, South Korea.[1] It comprises numerous affiliated businesses,[1] most of them united under the Samsung brand, and is the largest South Korean chaebol (business conglomerate). As of 2020, Samsung has the 8th highest global brand value.[4]\n",
    "\n",
    "Samsung was founded by Lee Byung-chul in 1938 as a trading company. Over the next three decades, the group diversified into areas including food processing, textiles, insurance, securities, and retail. Samsung entered the electronics industry in the late 1960s and the construction and shipbuilding industries in the mid-1970s; these areas would drive its subsequent growth. Following Lee's death in 1987, Samsung was separated into five business groups – Samsung Group, Shinsegae Group, CJ Group and Hansol Group, and Joongang Group.\n",
    "\n",
    "Notable Samsung industrial affiliates include Samsung Electronics (the world's largest information technology company, consumer electronics maker and chipmaker measured by 2017 revenues),[5][6] Samsung Heavy Industries (the world's 2nd largest shipbuilder measured by 2010 revenues),[7] and Samsung Engineering and Samsung C&T Corporation (respectively the world's 13th and 36th largest construction companies).[8] Other notable subsidiaries include Samsung Life Insurance (the world's 14th largest life insurance company),[9] Samsung Everland (operator of Everland Resort, the oldest theme park in South Korea)[10] and Cheil Worldwide (the world's 15th largest advertising agency, as measured by 2012 revenues).\"\"\""
   ]
  },
  {
   "cell_type": "code",
   "execution_count": 42,
   "id": "fd764357",
   "metadata": {},
   "outputs": [
    {
     "data": {
      "text/plain": [
       "\"The Samsung Group[3] (or simply Samsung, stylized as SΛMSUNG) (Korean: 삼성 [samsʌŋ]) is a South Korean multinational manufacturing conglomerate headquartered in Samsung Town, Seoul, South Korea.[1] It comprises numerous affiliated businesses,[1] most of them united under the Samsung brand, and is the largest South Korean chaebol (business conglomerate). As of 2020, Samsung has the 8th highest global brand value.[4]\\n\\nSamsung was founded by Lee Byung-chul in 1938 as a trading company. Over the next three decades, the group diversified into areas including food processing, textiles, insurance, securities, and retail. Samsung entered the electronics industry in the late 1960s and the construction and shipbuilding industries in the mid-1970s; these areas would drive its subsequent growth. Following Lee's death in 1987, Samsung was separated into five business groups – Samsung Group, Shinsegae Group, CJ Group and Hansol Group, and Joongang Group.\\n\\nNotable Samsung industrial affiliates include Samsung Electronics (the world's largest information technology company, consumer electronics maker and chipmaker measured by 2017 revenues),[5][6] Samsung Heavy Industries (the world's 2nd largest shipbuilder measured by 2010 revenues),[7] and Samsung Engineering and Samsung C&T Corporation (respectively the world's 13th and 36th largest construction companies).[8] Other notable subsidiaries include Samsung Life Insurance (the world's 14th largest life insurance company),[9] Samsung Everland (operator of Everland Resort, the oldest theme park in South Korea)[10] and Cheil Worldwide (the world's 15th largest advertising agency, as measured by 2012 revenues).\""
      ]
     },
     "execution_count": 42,
     "metadata": {},
     "output_type": "execute_result"
    }
   ],
   "source": [
    "ss"
   ]
  },
  {
   "cell_type": "code",
   "execution_count": 43,
   "id": "a472cdab",
   "metadata": {},
   "outputs": [
    {
     "data": {
      "text/plain": [
       "['The',\n",
       " 'Samsung',\n",
       " 'Group[3]',\n",
       " '(or',\n",
       " 'simply',\n",
       " 'Samsung,',\n",
       " 'stylized',\n",
       " 'as',\n",
       " 'SΛMSUNG)',\n",
       " '(Korean:',\n",
       " '삼성',\n",
       " '[samsʌŋ])',\n",
       " 'is',\n",
       " 'a',\n",
       " 'South',\n",
       " 'Korean',\n",
       " 'multinational',\n",
       " 'manufacturing',\n",
       " 'conglomerate',\n",
       " 'headquartered',\n",
       " 'in',\n",
       " 'Samsung',\n",
       " 'Town,',\n",
       " 'Seoul,',\n",
       " 'South',\n",
       " 'Korea.[1]',\n",
       " 'It',\n",
       " 'comprises',\n",
       " 'numerous',\n",
       " 'affiliated',\n",
       " 'businesses,[1]',\n",
       " 'most',\n",
       " 'of',\n",
       " 'them',\n",
       " 'united',\n",
       " 'under',\n",
       " 'the',\n",
       " 'Samsung',\n",
       " 'brand,',\n",
       " 'and',\n",
       " 'is',\n",
       " 'the',\n",
       " 'largest',\n",
       " 'South',\n",
       " 'Korean',\n",
       " 'chaebol',\n",
       " '(business',\n",
       " 'conglomerate).',\n",
       " 'As',\n",
       " 'of',\n",
       " '2020,',\n",
       " 'Samsung',\n",
       " 'has',\n",
       " 'the',\n",
       " '8th',\n",
       " 'highest',\n",
       " 'global',\n",
       " 'brand',\n",
       " 'value.[4]\\n\\nSamsung',\n",
       " 'was',\n",
       " 'founded',\n",
       " 'by',\n",
       " 'Lee',\n",
       " 'Byung-chul',\n",
       " 'in',\n",
       " '1938',\n",
       " 'as',\n",
       " 'a',\n",
       " 'trading',\n",
       " 'company.',\n",
       " 'Over',\n",
       " 'the',\n",
       " 'next',\n",
       " 'three',\n",
       " 'decades,',\n",
       " 'the',\n",
       " 'group',\n",
       " 'diversified',\n",
       " 'into',\n",
       " 'areas',\n",
       " 'including',\n",
       " 'food',\n",
       " 'processing,',\n",
       " 'textiles,',\n",
       " 'insurance,',\n",
       " 'securities,',\n",
       " 'and',\n",
       " 'retail.',\n",
       " 'Samsung',\n",
       " 'entered',\n",
       " 'the',\n",
       " 'electronics',\n",
       " 'industry',\n",
       " 'in',\n",
       " 'the',\n",
       " 'late',\n",
       " '1960s',\n",
       " 'and',\n",
       " 'the',\n",
       " 'construction',\n",
       " 'and',\n",
       " 'shipbuilding',\n",
       " 'industries',\n",
       " 'in',\n",
       " 'the',\n",
       " 'mid-1970s;',\n",
       " 'these',\n",
       " 'areas',\n",
       " 'would',\n",
       " 'drive',\n",
       " 'its',\n",
       " 'subsequent',\n",
       " 'growth.',\n",
       " 'Following',\n",
       " \"Lee's\",\n",
       " 'death',\n",
       " 'in',\n",
       " '1987,',\n",
       " 'Samsung',\n",
       " 'was',\n",
       " 'separated',\n",
       " 'into',\n",
       " 'five',\n",
       " 'business',\n",
       " 'groups',\n",
       " '–',\n",
       " 'Samsung',\n",
       " 'Group,',\n",
       " 'Shinsegae',\n",
       " 'Group,',\n",
       " 'CJ',\n",
       " 'Group',\n",
       " 'and',\n",
       " 'Hansol',\n",
       " 'Group,',\n",
       " 'and',\n",
       " 'Joongang',\n",
       " 'Group.\\n\\nNotable',\n",
       " 'Samsung',\n",
       " 'industrial',\n",
       " 'affiliates',\n",
       " 'include',\n",
       " 'Samsung',\n",
       " 'Electronics',\n",
       " '(the',\n",
       " \"world's\",\n",
       " 'largest',\n",
       " 'information',\n",
       " 'technology',\n",
       " 'company,',\n",
       " 'consumer',\n",
       " 'electronics',\n",
       " 'maker',\n",
       " 'and',\n",
       " 'chipmaker',\n",
       " 'measured',\n",
       " 'by',\n",
       " '2017',\n",
       " 'revenues),[5][6]',\n",
       " 'Samsung',\n",
       " 'Heavy',\n",
       " 'Industries',\n",
       " '(the',\n",
       " \"world's\",\n",
       " '2nd',\n",
       " 'largest',\n",
       " 'shipbuilder',\n",
       " 'measured',\n",
       " 'by',\n",
       " '2010',\n",
       " 'revenues),[7]',\n",
       " 'and',\n",
       " 'Samsung',\n",
       " 'Engineering',\n",
       " 'and',\n",
       " 'Samsung',\n",
       " 'C&T',\n",
       " 'Corporation',\n",
       " '(respectively',\n",
       " 'the',\n",
       " \"world's\",\n",
       " '13th',\n",
       " 'and',\n",
       " '36th',\n",
       " 'largest',\n",
       " 'construction',\n",
       " 'companies).[8]',\n",
       " 'Other',\n",
       " 'notable',\n",
       " 'subsidiaries',\n",
       " 'include',\n",
       " 'Samsung',\n",
       " 'Life',\n",
       " 'Insurance',\n",
       " '(the',\n",
       " \"world's\",\n",
       " '14th',\n",
       " 'largest',\n",
       " 'life',\n",
       " 'insurance',\n",
       " 'company),[9]',\n",
       " 'Samsung',\n",
       " 'Everland',\n",
       " '(operator',\n",
       " 'of',\n",
       " 'Everland',\n",
       " 'Resort,',\n",
       " 'the',\n",
       " 'oldest',\n",
       " 'theme',\n",
       " 'park',\n",
       " 'in',\n",
       " 'South',\n",
       " 'Korea)[10]',\n",
       " 'and',\n",
       " 'Cheil',\n",
       " 'Worldwide',\n",
       " '(the',\n",
       " \"world's\",\n",
       " '15th',\n",
       " 'largest',\n",
       " 'advertising',\n",
       " 'agency,',\n",
       " 'as',\n",
       " 'measured',\n",
       " 'by',\n",
       " '2012',\n",
       " 'revenues).']"
      ]
     },
     "execution_count": 43,
     "metadata": {},
     "output_type": "execute_result"
    }
   ],
   "source": [
    "ss.split(' ')"
   ]
  },
  {
   "cell_type": "code",
   "execution_count": 45,
   "id": "4b667b28",
   "metadata": {},
   "outputs": [],
   "source": [
    "z = \"\"\"As of 2013, the Fair Trade Commission of Taiwan is investigating Samsung and its local Taiwanese advertising agency for false advertising. The case was commenced after the commission received complaints stating that the agency hired students to attack competitors of Samsung Electronics in online forums.[42] Samsung Taiwan made an announcement on its Facebook page in which it stated that it had not interfered with any evaluation report and had stopped online marketing campaigns that constituted posting or responding to content in online forums.[43]\n",
    "\n",
    "In 2015, Samsung has been granted more U.S. patents than any other company – including IBM, Google, Sony, Microsoft and Apple. The company received 7,679 utility patents through 11 December.[44]\n",
    "\n",
    "The Galaxy Note 7 smartphone went on sale on 19 August 2016.[45] However, in early September 2016, Samsung suspended sales of the phone and announced an informal recall. This occurred after some units of the phones had batteries with a defect that caused them to produce excessive heat, leading to fires and explosions. Samsung replaced the recalled units of the phones with a new version; however, it was later discovered that the new version of the Galaxy Note 7 also had the battery defect. Samsung recalled all Galaxy Note 7 smartphones worldwide on 10 October 2016, and permanently ended production of the phone the following day.[46][47][48]\n",
    "\n",
    "In 2018, Samsung launched the world's largest mobile manufacturing facility in Noida, India, with guest of honour including Indian Prime Minister Narendra Modi.[49]\n",
    "\n",
    "In the 2021 review of WIPO's annual World Intellectual Property Indicators Samsung was ranked as 3rd in the world for its 170 industrial design registrations published under the Hague System in 2020,[50] slightly down from their 2nd place ranking in 2019 for 166 design registrations being published.[51][non-primary source needed]\"\"\""
   ]
  },
  {
   "cell_type": "code",
   "execution_count": 47,
   "id": "31be8b54",
   "metadata": {},
   "outputs": [
    {
     "data": {
      "text/plain": [
       "['As',\n",
       " 'of',\n",
       " '2013,',\n",
       " 'the',\n",
       " 'Fair',\n",
       " 'Trade',\n",
       " 'Commission',\n",
       " 'of',\n",
       " 'Taiwan',\n",
       " 'is',\n",
       " 'investigating',\n",
       " 'Samsung',\n",
       " 'and',\n",
       " 'its',\n",
       " 'local',\n",
       " 'Taiwanese',\n",
       " 'advertising',\n",
       " 'agency',\n",
       " 'for',\n",
       " 'false',\n",
       " 'advertising.',\n",
       " 'The',\n",
       " 'case',\n",
       " 'was',\n",
       " 'commenced',\n",
       " 'after',\n",
       " 'the',\n",
       " 'commission',\n",
       " 'received',\n",
       " 'complaints',\n",
       " 'stating',\n",
       " 'that',\n",
       " 'the',\n",
       " 'agency',\n",
       " 'hired',\n",
       " 'students',\n",
       " 'to',\n",
       " 'attack',\n",
       " 'competitors',\n",
       " 'of',\n",
       " 'Samsung',\n",
       " 'Electronics',\n",
       " 'in',\n",
       " 'online',\n",
       " 'forums.[42]',\n",
       " 'Samsung',\n",
       " 'Taiwan',\n",
       " 'made',\n",
       " 'an',\n",
       " 'announcement',\n",
       " 'on',\n",
       " 'its',\n",
       " 'Facebook',\n",
       " 'page',\n",
       " 'in',\n",
       " 'which',\n",
       " 'it',\n",
       " 'stated',\n",
       " 'that',\n",
       " 'it',\n",
       " 'had',\n",
       " 'not',\n",
       " 'interfered',\n",
       " 'with',\n",
       " 'any',\n",
       " 'evaluation',\n",
       " 'report',\n",
       " 'and',\n",
       " 'had',\n",
       " 'stopped',\n",
       " 'online',\n",
       " 'marketing',\n",
       " 'campaigns',\n",
       " 'that',\n",
       " 'constituted',\n",
       " 'posting',\n",
       " 'or',\n",
       " 'responding',\n",
       " 'to',\n",
       " 'content',\n",
       " 'in',\n",
       " 'online',\n",
       " 'forums.[43]\\n\\nIn',\n",
       " '2015,',\n",
       " 'Samsung',\n",
       " 'has',\n",
       " 'been',\n",
       " 'granted',\n",
       " 'more',\n",
       " 'U.S.',\n",
       " 'patents',\n",
       " 'than',\n",
       " 'any',\n",
       " 'other',\n",
       " 'company',\n",
       " '–',\n",
       " 'including',\n",
       " 'IBM,',\n",
       " 'Google,',\n",
       " 'Sony,',\n",
       " 'Microsoft',\n",
       " 'and',\n",
       " 'Apple.',\n",
       " 'The',\n",
       " 'company',\n",
       " 'received',\n",
       " '7,679',\n",
       " 'utility',\n",
       " 'patents',\n",
       " 'through',\n",
       " '11',\n",
       " 'December.[44]\\n\\nThe',\n",
       " 'Galaxy',\n",
       " 'Note',\n",
       " '7',\n",
       " 'smartphone',\n",
       " 'went',\n",
       " 'on',\n",
       " 'sale',\n",
       " 'on',\n",
       " '19',\n",
       " 'August',\n",
       " '2016.[45]',\n",
       " 'However,',\n",
       " 'in',\n",
       " 'early',\n",
       " 'September',\n",
       " '2016,',\n",
       " 'Samsung',\n",
       " 'suspended',\n",
       " 'sales',\n",
       " 'of',\n",
       " 'the',\n",
       " 'phone',\n",
       " 'and',\n",
       " 'announced',\n",
       " 'an',\n",
       " 'informal',\n",
       " 'recall.',\n",
       " 'This',\n",
       " 'occurred',\n",
       " 'after',\n",
       " 'some',\n",
       " 'units',\n",
       " 'of',\n",
       " 'the',\n",
       " 'phones',\n",
       " 'had',\n",
       " 'batteries',\n",
       " 'with',\n",
       " 'a',\n",
       " 'defect',\n",
       " 'that',\n",
       " 'caused',\n",
       " 'them',\n",
       " 'to',\n",
       " 'produce',\n",
       " 'excessive',\n",
       " 'heat,',\n",
       " 'leading',\n",
       " 'to',\n",
       " 'fires',\n",
       " 'and',\n",
       " 'explosions.',\n",
       " 'Samsung',\n",
       " 'replaced',\n",
       " 'the',\n",
       " 'recalled',\n",
       " 'units',\n",
       " 'of',\n",
       " 'the',\n",
       " 'phones',\n",
       " 'with',\n",
       " 'a',\n",
       " 'new',\n",
       " 'version;',\n",
       " 'however,',\n",
       " 'it',\n",
       " 'was',\n",
       " 'later',\n",
       " 'discovered',\n",
       " 'that',\n",
       " 'the',\n",
       " 'new',\n",
       " 'version',\n",
       " 'of',\n",
       " 'the',\n",
       " 'Galaxy',\n",
       " 'Note',\n",
       " '7',\n",
       " 'also',\n",
       " 'had',\n",
       " 'the',\n",
       " 'battery',\n",
       " 'defect.',\n",
       " 'Samsung',\n",
       " 'recalled',\n",
       " 'all',\n",
       " 'Galaxy',\n",
       " 'Note',\n",
       " '7',\n",
       " 'smartphones',\n",
       " 'worldwide',\n",
       " 'on',\n",
       " '10',\n",
       " 'October',\n",
       " '2016,',\n",
       " 'and',\n",
       " 'permanently',\n",
       " 'ended',\n",
       " 'production',\n",
       " 'of',\n",
       " 'the',\n",
       " 'phone',\n",
       " 'the',\n",
       " 'following',\n",
       " 'day.[46][47][48]\\n\\nIn',\n",
       " '2018,',\n",
       " 'Samsung',\n",
       " 'launched',\n",
       " 'the',\n",
       " \"world's\",\n",
       " 'largest',\n",
       " 'mobile',\n",
       " 'manufacturing',\n",
       " 'facility',\n",
       " 'in',\n",
       " 'Noida,',\n",
       " 'India,',\n",
       " 'with',\n",
       " 'guest',\n",
       " 'of',\n",
       " 'honour',\n",
       " 'including',\n",
       " 'Indian',\n",
       " 'Prime',\n",
       " 'Minister',\n",
       " 'Narendra',\n",
       " 'Modi.[49]\\n\\nIn',\n",
       " 'the',\n",
       " '2021',\n",
       " 'review',\n",
       " 'of',\n",
       " \"WIPO's\",\n",
       " 'annual',\n",
       " 'World',\n",
       " 'Intellectual',\n",
       " 'Property',\n",
       " 'Indicators',\n",
       " 'Samsung',\n",
       " 'was',\n",
       " 'ranked',\n",
       " 'as',\n",
       " '3rd',\n",
       " 'in',\n",
       " 'the',\n",
       " 'world',\n",
       " 'for',\n",
       " 'its',\n",
       " '170',\n",
       " 'industrial',\n",
       " 'design',\n",
       " 'registrations',\n",
       " 'published',\n",
       " 'under',\n",
       " 'the',\n",
       " 'Hague',\n",
       " 'System',\n",
       " 'in',\n",
       " '2020,[50]',\n",
       " 'slightly',\n",
       " 'down',\n",
       " 'from',\n",
       " 'their',\n",
       " '2nd',\n",
       " 'place',\n",
       " 'ranking',\n",
       " 'in',\n",
       " '2019',\n",
       " 'for',\n",
       " '166',\n",
       " 'design',\n",
       " 'registrations',\n",
       " 'being',\n",
       " 'published.[51][non-primary',\n",
       " 'source',\n",
       " 'needed]']"
      ]
     },
     "execution_count": 47,
     "metadata": {},
     "output_type": "execute_result"
    }
   ],
   "source": [
    "z.split(' ')"
   ]
  },
  {
   "cell_type": "code",
   "execution_count": 51,
   "id": "d089bba7",
   "metadata": {},
   "outputs": [
    {
     "data": {
      "text/plain": [
       "122"
      ]
     },
     "execution_count": 51,
     "metadata": {},
     "output_type": "execute_result"
    }
   ],
   "source": [
    "z.count(\"a\")"
   ]
  },
  {
   "cell_type": "code",
   "execution_count": 50,
   "id": "662d5b6b",
   "metadata": {},
   "outputs": [
    {
     "data": {
      "text/plain": [
       "1897"
      ]
     },
     "execution_count": 50,
     "metadata": {},
     "output_type": "execute_result"
    }
   ],
   "source": [
    "len(z)"
   ]
  },
  {
   "cell_type": "code",
   "execution_count": 48,
   "id": "eba3e537",
   "metadata": {},
   "outputs": [
    {
     "data": {
      "text/plain": [
       "\"AS OF 2013, THE FAIR TRADE COMMISSION OF TAIWAN IS INVESTIGATING SAMSUNG AND ITS LOCAL TAIWANESE ADVERTISING AGENCY FOR FALSE ADVERTISING. THE CASE WAS COMMENCED AFTER THE COMMISSION RECEIVED COMPLAINTS STATING THAT THE AGENCY HIRED STUDENTS TO ATTACK COMPETITORS OF SAMSUNG ELECTRONICS IN ONLINE FORUMS.[42] SAMSUNG TAIWAN MADE AN ANNOUNCEMENT ON ITS FACEBOOK PAGE IN WHICH IT STATED THAT IT HAD NOT INTERFERED WITH ANY EVALUATION REPORT AND HAD STOPPED ONLINE MARKETING CAMPAIGNS THAT CONSTITUTED POSTING OR RESPONDING TO CONTENT IN ONLINE FORUMS.[43]\\n\\nIN 2015, SAMSUNG HAS BEEN GRANTED MORE U.S. PATENTS THAN ANY OTHER COMPANY – INCLUDING IBM, GOOGLE, SONY, MICROSOFT AND APPLE. THE COMPANY RECEIVED 7,679 UTILITY PATENTS THROUGH 11 DECEMBER.[44]\\n\\nTHE GALAXY NOTE 7 SMARTPHONE WENT ON SALE ON 19 AUGUST 2016.[45] HOWEVER, IN EARLY SEPTEMBER 2016, SAMSUNG SUSPENDED SALES OF THE PHONE AND ANNOUNCED AN INFORMAL RECALL. THIS OCCURRED AFTER SOME UNITS OF THE PHONES HAD BATTERIES WITH A DEFECT THAT CAUSED THEM TO PRODUCE EXCESSIVE HEAT, LEADING TO FIRES AND EXPLOSIONS. SAMSUNG REPLACED THE RECALLED UNITS OF THE PHONES WITH A NEW VERSION; HOWEVER, IT WAS LATER DISCOVERED THAT THE NEW VERSION OF THE GALAXY NOTE 7 ALSO HAD THE BATTERY DEFECT. SAMSUNG RECALLED ALL GALAXY NOTE 7 SMARTPHONES WORLDWIDE ON 10 OCTOBER 2016, AND PERMANENTLY ENDED PRODUCTION OF THE PHONE THE FOLLOWING DAY.[46][47][48]\\n\\nIN 2018, SAMSUNG LAUNCHED THE WORLD'S LARGEST MOBILE MANUFACTURING FACILITY IN NOIDA, INDIA, WITH GUEST OF HONOUR INCLUDING INDIAN PRIME MINISTER NARENDRA MODI.[49]\\n\\nIN THE 2021 REVIEW OF WIPO'S ANNUAL WORLD INTELLECTUAL PROPERTY INDICATORS SAMSUNG WAS RANKED AS 3RD IN THE WORLD FOR ITS 170 INDUSTRIAL DESIGN REGISTRATIONS PUBLISHED UNDER THE HAGUE SYSTEM IN 2020,[50] SLIGHTLY DOWN FROM THEIR 2ND PLACE RANKING IN 2019 FOR 166 DESIGN REGISTRATIONS BEING PUBLISHED.[51][NON-PRIMARY SOURCE NEEDED]\""
      ]
     },
     "execution_count": 48,
     "metadata": {},
     "output_type": "execute_result"
    }
   ],
   "source": [
    "z.upper()"
   ]
  },
  {
   "cell_type": "code",
   "execution_count": 52,
   "id": "42e04ab6",
   "metadata": {},
   "outputs": [],
   "source": [
    "z = z.upper()"
   ]
  },
  {
   "cell_type": "code",
   "execution_count": 57,
   "id": "b81a740c",
   "metadata": {},
   "outputs": [],
   "source": [
    "a = 'nithin hegde'"
   ]
  },
  {
   "cell_type": "code",
   "execution_count": 58,
   "id": "02cbc8b1",
   "metadata": {},
   "outputs": [
    {
     "data": {
      "text/plain": [
       "'Nithin Hegde'"
      ]
     },
     "execution_count": 58,
     "metadata": {},
     "output_type": "execute_result"
    }
   ],
   "source": [
    "a.title()"
   ]
  },
  {
   "cell_type": "code",
   "execution_count": 59,
   "id": "da7cb880",
   "metadata": {},
   "outputs": [
    {
     "data": {
      "text/plain": [
       "'Nithin hegde'"
      ]
     },
     "execution_count": 59,
     "metadata": {},
     "output_type": "execute_result"
    }
   ],
   "source": [
    "a.capitalize()"
   ]
  },
  {
   "cell_type": "code",
   "execution_count": 60,
   "id": "ba7f0a30",
   "metadata": {},
   "outputs": [
    {
     "data": {
      "text/plain": [
       "\"As Of 2013, The Fair Trade Commission Of Taiwan Is Investigating Samsung And Its Local Taiwanese Advertising Agency For False Advertising. The Case Was Commenced After The Commission Received Complaints Stating That The Agency Hired Students To Attack Competitors Of Samsung Electronics In Online Forums.[42] Samsung Taiwan Made An Announcement On Its Facebook Page In Which It Stated That It Had Not Interfered With Any Evaluation Report And Had Stopped Online Marketing Campaigns That Constituted Posting Or Responding To Content In Online Forums.[43]\\n\\nIn 2015, Samsung Has Been Granted More U.S. Patents Than Any Other Company – Including Ibm, Google, Sony, Microsoft And Apple. The Company Received 7,679 Utility Patents Through 11 December.[44]\\n\\nThe Galaxy Note 7 Smartphone Went On Sale On 19 August 2016.[45] However, In Early September 2016, Samsung Suspended Sales Of The Phone And Announced An Informal Recall. This Occurred After Some Units Of The Phones Had Batteries With A Defect That Caused Them To Produce Excessive Heat, Leading To Fires And Explosions. Samsung Replaced The Recalled Units Of The Phones With A New Version; However, It Was Later Discovered That The New Version Of The Galaxy Note 7 Also Had The Battery Defect. Samsung Recalled All Galaxy Note 7 Smartphones Worldwide On 10 October 2016, And Permanently Ended Production Of The Phone The Following Day.[46][47][48]\\n\\nIn 2018, Samsung Launched The World'S Largest Mobile Manufacturing Facility In Noida, India, With Guest Of Honour Including Indian Prime Minister Narendra Modi.[49]\\n\\nIn The 2021 Review Of Wipo'S Annual World Intellectual Property Indicators Samsung Was Ranked As 3Rd In The World For Its 170 Industrial Design Registrations Published Under The Hague System In 2020,[50] Slightly Down From Their 2Nd Place Ranking In 2019 For 166 Design Registrations Being Published.[51][Non-Primary Source Needed]\""
      ]
     },
     "execution_count": 60,
     "metadata": {},
     "output_type": "execute_result"
    }
   ],
   "source": [
    "z.title()"
   ]
  },
  {
   "cell_type": "code",
   "execution_count": 61,
   "id": "ab0487b3",
   "metadata": {},
   "outputs": [
    {
     "data": {
      "text/plain": [
       "'nithin hegde'"
      ]
     },
     "execution_count": 61,
     "metadata": {},
     "output_type": "execute_result"
    }
   ],
   "source": [
    "a"
   ]
  },
  {
   "cell_type": "code",
   "execution_count": 62,
   "id": "7de2632d",
   "metadata": {},
   "outputs": [
    {
     "data": {
      "text/plain": [
       "'NITHIN HEGDE'"
      ]
     },
     "execution_count": 62,
     "metadata": {},
     "output_type": "execute_result"
    }
   ],
   "source": [
    "a.swapcase()"
   ]
  },
  {
   "cell_type": "code",
   "execution_count": 64,
   "id": "a5ced353",
   "metadata": {},
   "outputs": [
    {
     "data": {
      "text/plain": [
       "'edgeh nihtin'"
      ]
     },
     "execution_count": 64,
     "metadata": {},
     "output_type": "execute_result"
    }
   ],
   "source": [
    "''.join(reversed(a))"
   ]
  },
  {
   "cell_type": "code",
   "execution_count": 65,
   "id": "40308a68",
   "metadata": {},
   "outputs": [
    {
     "data": {
      "text/plain": [
       "'edgeh nihtin'"
      ]
     },
     "execution_count": 65,
     "metadata": {},
     "output_type": "execute_result"
    }
   ],
   "source": [
    "a[::-1]"
   ]
  },
  {
   "cell_type": "code",
   "execution_count": 66,
   "id": "5dc5f720",
   "metadata": {},
   "outputs": [],
   "source": [
    "b = '    nithin   '"
   ]
  },
  {
   "cell_type": "code",
   "execution_count": 67,
   "id": "33e790d4",
   "metadata": {},
   "outputs": [
    {
     "data": {
      "text/plain": [
       "'nithin'"
      ]
     },
     "execution_count": 67,
     "metadata": {},
     "output_type": "execute_result"
    }
   ],
   "source": [
    "b.strip()"
   ]
  },
  {
   "cell_type": "code",
   "execution_count": 68,
   "id": "a3108b1d",
   "metadata": {},
   "outputs": [],
   "source": [
    "c = '  nit  hin  '"
   ]
  },
  {
   "cell_type": "code",
   "execution_count": 69,
   "id": "0c945ca2",
   "metadata": {},
   "outputs": [
    {
     "data": {
      "text/plain": [
       "'nit  hin'"
      ]
     },
     "execution_count": 69,
     "metadata": {},
     "output_type": "execute_result"
    }
   ],
   "source": [
    "c.strip()"
   ]
  },
  {
   "cell_type": "code",
   "execution_count": 70,
   "id": "32e9f354",
   "metadata": {},
   "outputs": [
    {
     "data": {
      "text/plain": [
       "'nit  hin  '"
      ]
     },
     "execution_count": 70,
     "metadata": {},
     "output_type": "execute_result"
    }
   ],
   "source": [
    "c.lstrip()"
   ]
  },
  {
   "cell_type": "code",
   "execution_count": 71,
   "id": "d468f870",
   "metadata": {},
   "outputs": [
    {
     "data": {
      "text/plain": [
       "'  nit  hin'"
      ]
     },
     "execution_count": 71,
     "metadata": {},
     "output_type": "execute_result"
    }
   ],
   "source": [
    "c.rstrip()"
   ]
  },
  {
   "cell_type": "code",
   "execution_count": 76,
   "id": "4d5dfc99",
   "metadata": {},
   "outputs": [
    {
     "data": {
      "text/plain": [
       "'n  i  t  h  i  n'"
      ]
     },
     "execution_count": 76,
     "metadata": {},
     "output_type": "execute_result"
    }
   ],
   "source": [
    "'  '. join('nithin')"
   ]
  },
  {
   "cell_type": "code",
   "execution_count": 79,
   "id": "cf23fc48",
   "metadata": {},
   "outputs": [
    {
     "data": {
      "text/plain": [
       "'b'"
      ]
     },
     "execution_count": 79,
     "metadata": {},
     "output_type": "execute_result"
    }
   ],
   "source": [
    "'a'. join('b')"
   ]
  },
  {
   "cell_type": "code",
   "execution_count": 134,
   "id": "de1095b9",
   "metadata": {},
   "outputs": [],
   "source": [
    "a = \"5\""
   ]
  },
  {
   "cell_type": "code",
   "execution_count": 153,
   "id": "82e4b320",
   "metadata": {},
   "outputs": [
    {
     "data": {
      "text/plain": [
       "'#########5##########'"
      ]
     },
     "execution_count": 153,
     "metadata": {},
     "output_type": "execute_result"
    }
   ],
   "source": [
    "a.center(20, '#' )"
   ]
  },
  {
   "cell_type": "code",
   "execution_count": 152,
   "id": "25f7cdb0",
   "metadata": {},
   "outputs": [],
   "source": [
    "s = \"sudh\""
   ]
  },
  {
   "cell_type": "code",
   "execution_count": 150,
   "id": "a056bb55",
   "metadata": {},
   "outputs": [
    {
     "data": {
      "text/plain": [
       "'#########5##########'"
      ]
     },
     "execution_count": 150,
     "metadata": {},
     "output_type": "execute_result"
    }
   ],
   "source": [
    "s.center(20 , '#')"
   ]
  },
  {
   "cell_type": "code",
   "execution_count": 93,
   "id": "b38289a3",
   "metadata": {},
   "outputs": [
    {
     "data": {
      "text/plain": [
       "'SUDH'"
      ]
     },
     "execution_count": 93,
     "metadata": {},
     "output_type": "execute_result"
    }
   ],
   "source": [
    "s.upper()"
   ]
  },
  {
   "cell_type": "code",
   "execution_count": 94,
   "id": "c2f6c2dd",
   "metadata": {},
   "outputs": [
    {
     "data": {
      "text/plain": [
       "False"
      ]
     },
     "execution_count": 94,
     "metadata": {},
     "output_type": "execute_result"
    }
   ],
   "source": [
    "s.isupper()"
   ]
  },
  {
   "cell_type": "code",
   "execution_count": 95,
   "id": "68aad123",
   "metadata": {},
   "outputs": [],
   "source": [
    "a = \"NITHIN\""
   ]
  },
  {
   "cell_type": "code",
   "execution_count": 96,
   "id": "91514e11",
   "metadata": {},
   "outputs": [
    {
     "data": {
      "text/plain": [
       "False"
      ]
     },
     "execution_count": 96,
     "metadata": {},
     "output_type": "execute_result"
    }
   ],
   "source": [
    "a.islower()"
   ]
  },
  {
   "cell_type": "code",
   "execution_count": 97,
   "id": "a32f0767",
   "metadata": {},
   "outputs": [
    {
     "data": {
      "text/plain": [
       "True"
      ]
     },
     "execution_count": 97,
     "metadata": {},
     "output_type": "execute_result"
    }
   ],
   "source": [
    "a.isupper()"
   ]
  },
  {
   "cell_type": "code",
   "execution_count": 98,
   "id": "1b9b0002",
   "metadata": {},
   "outputs": [
    {
     "data": {
      "text/plain": [
       "False"
      ]
     },
     "execution_count": 98,
     "metadata": {},
     "output_type": "execute_result"
    }
   ],
   "source": [
    "a.isspace()"
   ]
  },
  {
   "cell_type": "code",
   "execution_count": 101,
   "id": "fd5f7be9",
   "metadata": {},
   "outputs": [],
   "source": [
    "a1 = \"  \""
   ]
  },
  {
   "cell_type": "code",
   "execution_count": 102,
   "id": "8531df4e",
   "metadata": {},
   "outputs": [
    {
     "data": {
      "text/plain": [
       "True"
      ]
     },
     "execution_count": 102,
     "metadata": {},
     "output_type": "execute_result"
    }
   ],
   "source": [
    "a1.isspace()"
   ]
  },
  {
   "cell_type": "code",
   "execution_count": 103,
   "id": "1f28eb32",
   "metadata": {},
   "outputs": [
    {
     "data": {
      "text/plain": [
       "False"
      ]
     },
     "execution_count": 103,
     "metadata": {},
     "output_type": "execute_result"
    }
   ],
   "source": [
    "a1.isdigit()"
   ]
  },
  {
   "cell_type": "code",
   "execution_count": 104,
   "id": "64e12a6c",
   "metadata": {},
   "outputs": [
    {
     "data": {
      "text/plain": [
       "False"
      ]
     },
     "execution_count": 104,
     "metadata": {},
     "output_type": "execute_result"
    }
   ],
   "source": [
    "a1.isalpha()"
   ]
  },
  {
   "cell_type": "code",
   "execution_count": 128,
   "id": "7ed51efc",
   "metadata": {},
   "outputs": [],
   "source": [
    "a2 = 'a2b3cd'"
   ]
  },
  {
   "cell_type": "code",
   "execution_count": 106,
   "id": "7bbd7d6b",
   "metadata": {},
   "outputs": [
    {
     "data": {
      "text/plain": [
       "False"
      ]
     },
     "execution_count": 106,
     "metadata": {},
     "output_type": "execute_result"
    }
   ],
   "source": [
    "a2.isdigit()"
   ]
  },
  {
   "cell_type": "code",
   "execution_count": 107,
   "id": "f679a280",
   "metadata": {},
   "outputs": [],
   "source": [
    "a3 = \"1234\""
   ]
  },
  {
   "cell_type": "code",
   "execution_count": 108,
   "id": "c230d431",
   "metadata": {},
   "outputs": [
    {
     "data": {
      "text/plain": [
       "True"
      ]
     },
     "execution_count": 108,
     "metadata": {},
     "output_type": "execute_result"
    }
   ],
   "source": [
    "a3.isdigit()"
   ]
  },
  {
   "cell_type": "code",
   "execution_count": 129,
   "id": "d77a9ef8",
   "metadata": {},
   "outputs": [
    {
     "data": {
      "text/plain": [
       "True"
      ]
     },
     "execution_count": 129,
     "metadata": {},
     "output_type": "execute_result"
    }
   ],
   "source": [
    "a2.isalnum()"
   ]
  },
  {
   "cell_type": "code",
   "execution_count": 118,
   "id": "02fb53f0",
   "metadata": {},
   "outputs": [],
   "source": [
    "a4= 'nithin'"
   ]
  },
  {
   "cell_type": "code",
   "execution_count": 119,
   "id": "de2f699f",
   "metadata": {},
   "outputs": [
    {
     "data": {
      "text/plain": [
       "True"
      ]
     },
     "execution_count": 119,
     "metadata": {},
     "output_type": "execute_result"
    }
   ],
   "source": [
    "a4.isalnum()"
   ]
  },
  {
   "cell_type": "code",
   "execution_count": 120,
   "id": "0d66b283",
   "metadata": {},
   "outputs": [
    {
     "data": {
      "text/plain": [
       "True"
      ]
     },
     "execution_count": 120,
     "metadata": {},
     "output_type": "execute_result"
    }
   ],
   "source": [
    "a4.isalpha()"
   ]
  },
  {
   "cell_type": "code",
   "execution_count": 122,
   "id": "b6c532ae",
   "metadata": {},
   "outputs": [
    {
     "data": {
      "text/plain": [
       "True"
      ]
     },
     "execution_count": 122,
     "metadata": {},
     "output_type": "execute_result"
    }
   ],
   "source": [
    "a4.startswith('n')"
   ]
  },
  {
   "cell_type": "code",
   "execution_count": 123,
   "id": "bf91a271",
   "metadata": {},
   "outputs": [
    {
     "data": {
      "text/plain": [
       "False"
      ]
     },
     "execution_count": 123,
     "metadata": {},
     "output_type": "execute_result"
    }
   ],
   "source": [
    "a4.startswith('N')"
   ]
  },
  {
   "cell_type": "code",
   "execution_count": 124,
   "id": "6c234e7e",
   "metadata": {},
   "outputs": [
    {
     "data": {
      "text/plain": [
       "False"
      ]
     },
     "execution_count": 124,
     "metadata": {},
     "output_type": "execute_result"
    }
   ],
   "source": [
    "a4.endswith('i')"
   ]
  },
  {
   "cell_type": "code",
   "execution_count": 125,
   "id": "3be18e3b",
   "metadata": {},
   "outputs": [
    {
     "data": {
      "text/plain": [
       "'nithin'"
      ]
     },
     "execution_count": 125,
     "metadata": {},
     "output_type": "execute_result"
    }
   ],
   "source": [
    "a4"
   ]
  },
  {
   "cell_type": "code",
   "execution_count": 126,
   "id": "d4b4ed62",
   "metadata": {},
   "outputs": [
    {
     "data": {
      "text/plain": [
       "False"
      ]
     },
     "execution_count": 126,
     "metadata": {},
     "output_type": "execute_result"
    }
   ],
   "source": [
    "a4.isnumeric()"
   ]
  },
  {
   "cell_type": "code",
   "execution_count": 127,
   "id": "c1f99d67",
   "metadata": {},
   "outputs": [
    {
     "data": {
      "text/plain": [
       "True"
      ]
     },
     "execution_count": 127,
     "metadata": {},
     "output_type": "execute_result"
    }
   ],
   "source": [
    "a4.isascii()"
   ]
  },
  {
   "cell_type": "code",
   "execution_count": 148,
   "id": "d9be561c",
   "metadata": {},
   "outputs": [],
   "source": [
    "s = '5'"
   ]
  },
  {
   "cell_type": "code",
   "execution_count": 149,
   "id": "01234472",
   "metadata": {},
   "outputs": [
    {
     "data": {
      "text/plain": [
       "'*********5**********'"
      ]
     },
     "execution_count": 149,
     "metadata": {},
     "output_type": "execute_result"
    }
   ],
   "source": [
    "s.center(20, '*')"
   ]
  },
  {
   "cell_type": "code",
   "execution_count": 146,
   "id": "ed3f7309",
   "metadata": {},
   "outputs": [],
   "source": [
    "x = 'nithin'"
   ]
  },
  {
   "cell_type": "code",
   "execution_count": 168,
   "id": "e3c96523",
   "metadata": {},
   "outputs": [
    {
     "data": {
      "text/plain": [
       "'nithin'"
      ]
     },
     "execution_count": 168,
     "metadata": {},
     "output_type": "execute_result"
    }
   ],
   "source": [
    "''.join('nithin')"
   ]
  },
  {
   "cell_type": "code",
   "execution_count": 147,
   "id": "abe625bc",
   "metadata": {},
   "outputs": [
    {
     "data": {
      "text/plain": [
       "'5555555nithin5555555'"
      ]
     },
     "execution_count": 147,
     "metadata": {},
     "output_type": "execute_result"
    }
   ],
   "source": [
    "x.center(20, '5')"
   ]
  },
  {
   "cell_type": "code",
   "execution_count": 154,
   "id": "e4620a8e",
   "metadata": {},
   "outputs": [],
   "source": [
    "a= 'nithin'"
   ]
  },
  {
   "cell_type": "code",
   "execution_count": 155,
   "id": "0eb74b2e",
   "metadata": {},
   "outputs": [
    {
     "data": {
      "text/plain": [
       "<reversed at 0x1a3ff596460>"
      ]
     },
     "execution_count": 155,
     "metadata": {},
     "output_type": "execute_result"
    }
   ],
   "source": [
    "reversed(a)"
   ]
  },
  {
   "cell_type": "code",
   "execution_count": 156,
   "id": "994fb43a",
   "metadata": {},
   "outputs": [
    {
     "data": {
      "text/plain": [
       "'ndidtdhdidn'"
      ]
     },
     "execution_count": 156,
     "metadata": {},
     "output_type": "execute_result"
    }
   ],
   "source": [
    "'d'.join('nithin')"
   ]
  },
  {
   "cell_type": "code",
   "execution_count": 159,
   "id": "e2e827a7",
   "metadata": {},
   "outputs": [
    {
     "data": {
      "text/plain": [
       "'n*i*h*t*i*n'"
      ]
     },
     "execution_count": 159,
     "metadata": {},
     "output_type": "execute_result"
    }
   ],
   "source": [
    "'*'.join(reversed(\"nithin\"))"
   ]
  },
  {
   "cell_type": "code",
   "execution_count": 161,
   "id": "0643767f",
   "metadata": {},
   "outputs": [],
   "source": [
    "a= 'nithin\\tnagendra\\thegde'"
   ]
  },
  {
   "cell_type": "code",
   "execution_count": 162,
   "id": "8bf1f577",
   "metadata": {},
   "outputs": [
    {
     "data": {
      "text/plain": [
       "'nithin  nagendra        hegde'"
      ]
     },
     "execution_count": 162,
     "metadata": {},
     "output_type": "execute_result"
    }
   ],
   "source": [
    "a.expandtabs()"
   ]
  },
  {
   "cell_type": "code",
   "execution_count": 163,
   "id": "91ce207b",
   "metadata": {},
   "outputs": [],
   "source": [
    "s = \"this is my first python programming class and i am learning python string and its function \""
   ]
  },
  {
   "cell_type": "code",
   "execution_count": 165,
   "id": "e2a4b114",
   "metadata": {},
   "outputs": [
    {
     "data": {
      "text/plain": [
       "'h   r tnrrmglsnimengyosi dtfco'"
      ]
     },
     "execution_count": 165,
     "metadata": {},
     "output_type": "execute_result"
    }
   ],
   "source": [
    "s[1:300:3]"
   ]
  },
  {
   "cell_type": "code",
   "execution_count": 166,
   "id": "e830f9f2",
   "metadata": {},
   "outputs": [
    {
     "data": {
      "text/plain": [
       "' noitcnuf sti dna gnirts nohtyp gninrael ma i dna ssalc gnimmargorp nohtyp tsrif ym si siht'"
      ]
     },
     "execution_count": 166,
     "metadata": {},
     "output_type": "execute_result"
    }
   ],
   "source": [
    "s[::-1]"
   ]
  },
  {
   "cell_type": "code",
   "execution_count": 175,
   "id": "139dce65",
   "metadata": {},
   "outputs": [],
   "source": [
    "x = s.upper()"
   ]
  },
  {
   "cell_type": "code",
   "execution_count": 176,
   "id": "80a60bfd",
   "metadata": {},
   "outputs": [
    {
     "data": {
      "text/plain": [
       "['THIS',\n",
       " 'IS',\n",
       " 'MY',\n",
       " 'FIRST',\n",
       " 'PYTHON',\n",
       " 'PROGRAMMING',\n",
       " 'CLASS',\n",
       " 'AND',\n",
       " 'I',\n",
       " 'AM',\n",
       " 'LEARNING',\n",
       " 'PYTHON',\n",
       " 'STRING',\n",
       " 'AND',\n",
       " 'ITS',\n",
       " 'FUNCTION']"
      ]
     },
     "execution_count": 176,
     "metadata": {},
     "output_type": "execute_result"
    }
   ],
   "source": [
    "x.split()"
   ]
  },
  {
   "cell_type": "code",
   "execution_count": 177,
   "id": "d1ae1e64",
   "metadata": {},
   "outputs": [
    {
     "data": {
      "text/plain": [
       "'this is my first python programming class and i am learning python string and its function '"
      ]
     },
     "execution_count": 177,
     "metadata": {},
     "output_type": "execute_result"
    }
   ],
   "source": [
    "s.lower()"
   ]
  },
  {
   "cell_type": "code",
   "execution_count": 178,
   "id": "f315eb7c",
   "metadata": {},
   "outputs": [
    {
     "data": {
      "text/plain": [
       "'This is my first python programming class and i am learning python string and its function '"
      ]
     },
     "execution_count": 178,
     "metadata": {},
     "output_type": "execute_result"
    }
   ],
   "source": [
    "s.capitalize()"
   ]
  },
  {
   "cell_type": "code",
   "execution_count": 179,
   "id": "825708ac",
   "metadata": {},
   "outputs": [
    {
     "data": {
      "text/plain": [
       "False"
      ]
     },
     "execution_count": 179,
     "metadata": {},
     "output_type": "execute_result"
    }
   ],
   "source": [
    "s.isalnum()"
   ]
  },
  {
   "cell_type": "code",
   "execution_count": 181,
   "id": "1643b624",
   "metadata": {},
   "outputs": [
    {
     "data": {
      "text/plain": [
       "False"
      ]
     },
     "execution_count": 181,
     "metadata": {},
     "output_type": "execute_result"
    }
   ],
   "source": [
    "s.isalpha()"
   ]
  },
  {
   "cell_type": "code",
   "execution_count": 193,
   "id": "2965ea44",
   "metadata": {},
   "outputs": [],
   "source": [
    "f = 'abcde1'"
   ]
  },
  {
   "cell_type": "code",
   "execution_count": 194,
   "id": "a7c1486c",
   "metadata": {},
   "outputs": [
    {
     "data": {
      "text/plain": [
       "True"
      ]
     },
     "execution_count": 194,
     "metadata": {},
     "output_type": "execute_result"
    }
   ],
   "source": [
    "f.isalnum()"
   ]
  },
  {
   "cell_type": "code",
   "execution_count": 195,
   "id": "5c7f9e9b",
   "metadata": {},
   "outputs": [
    {
     "data": {
      "text/plain": [
       "False"
      ]
     },
     "execution_count": 195,
     "metadata": {},
     "output_type": "execute_result"
    }
   ],
   "source": [
    "f.isalpha()"
   ]
  },
  {
   "cell_type": "code",
   "execution_count": 196,
   "id": "a7b2423d",
   "metadata": {},
   "outputs": [],
   "source": [
    "a = 'nithin\\tnagendra\\thegde'"
   ]
  },
  {
   "cell_type": "code",
   "execution_count": 197,
   "id": "dfd5d842",
   "metadata": {},
   "outputs": [
    {
     "data": {
      "text/plain": [
       "'nithin  nagendra        hegde'"
      ]
     },
     "execution_count": 197,
     "metadata": {},
     "output_type": "execute_result"
    }
   ],
   "source": [
    "a.expandtabs()"
   ]
  },
  {
   "cell_type": "code",
   "execution_count": 198,
   "id": "042da9d1",
   "metadata": {},
   "outputs": [],
   "source": [
    "a = '   nithin   '"
   ]
  },
  {
   "cell_type": "code",
   "execution_count": 199,
   "id": "11016fb8",
   "metadata": {},
   "outputs": [
    {
     "data": {
      "text/plain": [
       "'nithin'"
      ]
     },
     "execution_count": 199,
     "metadata": {},
     "output_type": "execute_result"
    }
   ],
   "source": [
    "a.strip()"
   ]
  },
  {
   "cell_type": "code",
   "execution_count": 200,
   "id": "3e10d7b6",
   "metadata": {},
   "outputs": [
    {
     "data": {
      "text/plain": [
       "'nithin   '"
      ]
     },
     "execution_count": 200,
     "metadata": {},
     "output_type": "execute_result"
    }
   ],
   "source": [
    "a.lstrip()"
   ]
  },
  {
   "cell_type": "code",
   "execution_count": 201,
   "id": "303372bf",
   "metadata": {},
   "outputs": [
    {
     "data": {
      "text/plain": [
       "'   nithin'"
      ]
     },
     "execution_count": 201,
     "metadata": {},
     "output_type": "execute_result"
    }
   ],
   "source": [
    "a.rstrip()"
   ]
  },
  {
   "cell_type": "code",
   "execution_count": 202,
   "id": "b83803ff",
   "metadata": {},
   "outputs": [],
   "source": [
    "a = 'sudhanshu'"
   ]
  },
  {
   "cell_type": "code",
   "execution_count": 205,
   "id": "a56999e4",
   "metadata": {},
   "outputs": [
    {
     "data": {
      "text/plain": [
       "'nithin'"
      ]
     },
     "execution_count": 205,
     "metadata": {},
     "output_type": "execute_result"
    }
   ],
   "source": [
    "a.replace('sudhanshu', 'nithin' )"
   ]
  },
  {
   "cell_type": "code",
   "execution_count": 206,
   "id": "bab80c1f",
   "metadata": {},
   "outputs": [
    {
     "data": {
      "text/plain": [
       "'sudhanshu'"
      ]
     },
     "execution_count": 206,
     "metadata": {},
     "output_type": "execute_result"
    }
   ],
   "source": []
  },
  {
   "cell_type": "code",
   "execution_count": null,
   "id": "6174bfcf",
   "metadata": {},
   "outputs": [],
   "source": []
  }
 ],
 "metadata": {
  "kernelspec": {
   "display_name": "Python 3 (ipykernel)",
   "language": "python",
   "name": "python3"
  },
  "language_info": {
   "codemirror_mode": {
    "name": "ipython",
    "version": 3
   },
   "file_extension": ".py",
   "mimetype": "text/x-python",
   "name": "python",
   "nbconvert_exporter": "python",
   "pygments_lexer": "ipython3",
   "version": "3.9.12"
  }
 },
 "nbformat": 4,
 "nbformat_minor": 5
}

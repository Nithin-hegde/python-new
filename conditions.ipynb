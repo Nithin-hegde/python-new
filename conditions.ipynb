{
 "cells": [
  {
   "cell_type": "code",
   "execution_count": 14,
   "id": "52bf95f9",
   "metadata": {},
   "outputs": [
    {
     "name": "stdout",
     "output_type": "stream",
     "text": [
      "This is my first condition\n"
     ]
    }
   ],
   "source": [
    "a = 11\n",
    "if a == 11:\n",
    "    print('This is my first condition')\n",
    "    "
   ]
  },
  {
   "cell_type": "code",
   "execution_count": 15,
   "id": "1a31ba0a",
   "metadata": {},
   "outputs": [],
   "source": [
    "a = 10\n",
    "if a > 5 :\n",
    "    pass"
   ]
  },
  {
   "cell_type": "code",
   "execution_count": 24,
   "id": "fc4a57fc",
   "metadata": {},
   "outputs": [
    {
     "name": "stdout",
     "output_type": "stream",
     "text": [
      " print this statement as true\n"
     ]
    }
   ],
   "source": [
    "a = 10 \n",
    "if a>9 :\n",
    "    print(' print this statement as true')"
   ]
  },
  {
   "cell_type": "code",
   "execution_count": 30,
   "id": "bd541eaf",
   "metadata": {},
   "outputs": [
    {
     "name": "stdout",
     "output_type": "stream",
     "text": [
      "my condition is false\n"
     ]
    }
   ],
   "source": [
    "a = 10\n",
    "if a != 11 :\n",
    "    print(\"my condition is false\")\n",
    "else: \n",
    "    print('print this')"
   ]
  },
  {
   "cell_type": "code",
   "execution_count": 33,
   "id": "964ec52a",
   "metadata": {},
   "outputs": [
    {
     "name": "stdout",
     "output_type": "stream",
     "text": [
      "print this\n"
     ]
    }
   ],
   "source": [
    "a = 10\n",
    "if a == 11 :\n",
    "    print(\"my condition is false\")\n",
    "else: \n",
    "    print('print this')"
   ]
  },
  {
   "cell_type": "code",
   "execution_count": 37,
   "id": "0b521b78",
   "metadata": {},
   "outputs": [
    {
     "name": "stdout",
     "output_type": "stream",
     "text": [
      "here we are trying to comparre 10 with 11\n"
     ]
    }
   ],
   "source": [
    "a = 11\n",
    "if a == 12:\n",
    "    print(' here we are trying to comparre 10 with 12')\n",
    "elif a==11:\n",
    "    print('here we are trying to comparre 10 with 11')\n",
    "else:\n",
    "    print(' if all the blocks fail then do this')\n",
    "    "
   ]
  },
  {
   "cell_type": "code",
   "execution_count": 42,
   "id": "0f4da8e1",
   "metadata": {},
   "outputs": [
    {
     "name": "stdout",
     "output_type": "stream",
     "text": [
      " if all the blocks fail then do this\n"
     ]
    }
   ],
   "source": [
    "a = 29\n",
    "if a == 12:\n",
    "    print(' here we are trying to comparre 10 with 12')\n",
    "elif a==11:\n",
    "    print('here we are trying to comparre 10 with 11')\n",
    "elif a > 30 :\n",
    "    print('here we are trying to comparre 10 with >30')\n",
    "else:\n",
    "    print(' if all the blocks fail then do this')"
   ]
  },
  {
   "cell_type": "code",
   "execution_count": 67,
   "id": "21430a66",
   "metadata": {},
   "outputs": [
    {
     "name": "stdout",
     "output_type": "stream",
     "text": [
      "may be i wont able to buy a mobile\n"
     ]
    }
   ],
   "source": [
    "price = 600\n",
    "if price > 500  :\n",
    "    print('may be i wont able to buy a mobile')\n",
    "elif price < 500 :\n",
    "        print(' i will able to buy a mobile')\n",
    "elif price == 500 :\n",
    "    print(' i will definately buy a mobile')\n",
    "else:\n",
    "    print(' i wont buy any thing')"
   ]
  },
  {
   "cell_type": "code",
   "execution_count": 2,
   "id": "e95dacbb",
   "metadata": {},
   "outputs": [
    {
     "data": {
      "text/plain": [
       "True"
      ]
     },
     "execution_count": 2,
     "metadata": {},
     "output_type": "execute_result"
    }
   ],
   "source": [
    "l = [ 1, 2, 3,4,5,6]\n",
    "2 in l"
   ]
  },
  {
   "cell_type": "code",
   "execution_count": 4,
   "id": "ccb5ca90",
   "metadata": {},
   "outputs": [
    {
     "name": "stdout",
     "output_type": "stream",
     "text": [
      " try to perform a task\n"
     ]
    }
   ],
   "source": [
    "if 5 in l :\n",
    "    print(' try to perform a task')\n",
    "else:\n",
    "    print:('do not perform a task')"
   ]
  },
  {
   "cell_type": "code",
   "execution_count": 5,
   "id": "3a773df2",
   "metadata": {},
   "outputs": [],
   "source": [
    "a = [1,2,3,4,5,6]"
   ]
  },
  {
   "cell_type": "code",
   "execution_count": 11,
   "id": "cf5c17ca",
   "metadata": {},
   "outputs": [
    {
     "name": "stdout",
     "output_type": "stream",
     "text": [
      "then do the addition\n"
     ]
    }
   ],
   "source": [
    "if 1 in a :\n",
    "    print('then do the addition')\n",
    "elif 2 in a :\n",
    "    print('then do the sub')\n",
    "elif 3 in a :\n",
    "    print('then do multi')\n",
    "else:\n",
    "    print('do division')"
   ]
  },
  {
   "cell_type": "code",
   "execution_count": 14,
   "id": "a07b3db6",
   "metadata": {},
   "outputs": [
    {
     "name": "stdout",
     "output_type": "stream",
     "text": [
      "then do the sub\n"
     ]
    }
   ],
   "source": [
    "if 10 in a :\n",
    "    print('then do the addition')\n",
    "elif 2 in a :\n",
    "    print('then do the sub')\n",
    "elif 3 in a :\n",
    "    print('then do multi')\n",
    "else:\n",
    "    print('do division')"
   ]
  },
  {
   "cell_type": "code",
   "execution_count": 15,
   "id": "ae26c524",
   "metadata": {},
   "outputs": [
    {
     "name": "stdout",
     "output_type": "stream",
     "text": [
      "then do multi\n"
     ]
    }
   ],
   "source": [
    "if 10 in a :\n",
    "    print('then do the addition')\n",
    "elif 20 in a :\n",
    "    print('then do the sub')\n",
    "elif 3 in a :\n",
    "    print('then do multi')\n",
    "else:\n",
    "    print('do division')"
   ]
  },
  {
   "cell_type": "code",
   "execution_count": 16,
   "id": "aaf02a9f",
   "metadata": {},
   "outputs": [
    {
     "name": "stdout",
     "output_type": "stream",
     "text": [
      "then do multi\n",
      "this is new state\n"
     ]
    }
   ],
   "source": [
    "if 10 in a :\n",
    "    print('then do the addition')\n",
    "elif 20 in a :\n",
    "    print('then do the sub')\n",
    "elif 3 in a :\n",
    "    print('then do multi')\n",
    "else:\n",
    "    print('do division')\n",
    "if 4 in a :\n",
    "    print('this is new state')"
   ]
  },
  {
   "cell_type": "code",
   "execution_count": 17,
   "id": "77813bf4",
   "metadata": {},
   "outputs": [],
   "source": [
    "b = 400"
   ]
  },
  {
   "cell_type": "code",
   "execution_count": 21,
   "id": "a9fcd274",
   "metadata": {},
   "outputs": [
    {
     "name": "stdout",
     "output_type": "stream",
     "text": [
      "[1,2,3,4,5]\n"
     ]
    }
   ],
   "source": [
    "c = input()"
   ]
  },
  {
   "cell_type": "code",
   "execution_count": 22,
   "id": "ab74898d",
   "metadata": {},
   "outputs": [
    {
     "data": {
      "text/plain": [
       "str"
      ]
     },
     "execution_count": 22,
     "metadata": {},
     "output_type": "execute_result"
    }
   ],
   "source": [
    "type(c)"
   ]
  },
  {
   "cell_type": "code",
   "execution_count": 25,
   "id": "1cef463b",
   "metadata": {},
   "outputs": [
    {
     "name": "stdout",
     "output_type": "stream",
     "text": [
      "400\n"
     ]
    }
   ],
   "source": [
    "a1 = int(input())"
   ]
  },
  {
   "cell_type": "code",
   "execution_count": 26,
   "id": "3817e7f2",
   "metadata": {},
   "outputs": [
    {
     "data": {
      "text/plain": [
       "int"
      ]
     },
     "execution_count": 26,
     "metadata": {},
     "output_type": "execute_result"
    }
   ],
   "source": [
    "type(a1)"
   ]
  },
  {
   "cell_type": "code",
   "execution_count": 29,
   "id": "8b40de38",
   "metadata": {},
   "outputs": [
    {
     "name": "stdout",
     "output_type": "stream",
     "text": [
      "nitin\n"
     ]
    },
    {
     "ename": "ValueError",
     "evalue": "invalid literal for int() with base 10: 'nitin'",
     "output_type": "error",
     "traceback": [
      "\u001b[1;31m---------------------------------------------------------------------------\u001b[0m",
      "\u001b[1;31mValueError\u001b[0m                                Traceback (most recent call last)",
      "Input \u001b[1;32mIn [29]\u001b[0m, in \u001b[0;36m<cell line: 1>\u001b[1;34m()\u001b[0m\n\u001b[1;32m----> 1\u001b[0m a2 \u001b[38;5;241m=\u001b[39m \u001b[38;5;28;43mint\u001b[39;49m\u001b[43m(\u001b[49m\u001b[38;5;28;43minput\u001b[39;49m\u001b[43m(\u001b[49m\u001b[43m)\u001b[49m\u001b[43m)\u001b[49m\n",
      "\u001b[1;31mValueError\u001b[0m: invalid literal for int() with base 10: 'nitin'"
     ]
    }
   ],
   "source": [
    "a2 = int(input())"
   ]
  },
  {
   "cell_type": "code",
   "execution_count": 46,
   "id": "cf234bc9",
   "metadata": {},
   "outputs": [
    {
     "name": "stdout",
     "output_type": "stream",
     "text": [
      "750\n",
      "i will not buy anything\n",
      "i will try diff\n"
     ]
    }
   ],
   "source": [
    "b1 = int(input())\n",
    "if b1 < 500 :\n",
    "    print('i will buy something')\n",
    "    if b1 < 400 :\n",
    "        print(' i will buy pant')\n",
    "    elif b1 < 300 :\n",
    "        print(' i will buy t shirt')\n",
    "        if b1 < 100 :\n",
    "            print('i will buy hand karcheep')\n",
    "    else :\n",
    "        print(' i will not buy anything')\n",
    "else:\n",
    "    print('i will not buy anything')\n",
    "    if b1 > 600 :\n",
    "        print('i will try diff')\n",
    "    "
   ]
  },
  {
   "cell_type": "code",
   "execution_count": 50,
   "id": "8407eea1",
   "metadata": {},
   "outputs": [
    {
     "name": "stdout",
     "output_type": "stream",
     "text": [
      "550\n",
      "no GRE\n",
      "you got TOFFEL\n"
     ]
    }
   ],
   "source": [
    "marks = int(input())\n",
    "if marks < 600:\n",
    "    print('no GRE')\n",
    "    if marks < 500:\n",
    "        print( 'TOFFEL')\n",
    "        if marks < 400 :\n",
    "            print('something else')\n",
    "    else:\n",
    "        print('you got TOFFEL')\n",
    "else:\n",
    "    print('you got GRE Congrts')"
   ]
  },
  {
   "cell_type": "code",
   "execution_count": 3,
   "id": "24551421",
   "metadata": {},
   "outputs": [
    {
     "name": "stdout",
     "output_type": "stream",
     "text": [
      "550\n",
      "no GRE\n",
      "you got TOFFEL\n"
     ]
    }
   ],
   "source": [
    "marks = int(input())\n",
    "if marks < 600:\n",
    "    print('no GRE')\n",
    "    if marks < 500:\n",
    "        print( 'TOFFEL')\n",
    "        if marks < 400 :\n",
    "            print('try something else')\n",
    "    else:\n",
    "        print('you got TOFFEL')\n",
    "else:\n",
    "    print('you got GRE Congrts')"
   ]
  },
  {
   "cell_type": "code",
   "execution_count": 7,
   "id": "2a8c7d88",
   "metadata": {},
   "outputs": [
    {
     "name": "stdout",
     "output_type": "stream",
     "text": [
      "enter a floating point number  0.2\n",
      "entered value is positive no\n"
     ]
    }
   ],
   "source": [
    "value = float(input('enter a floating point number  '))\n",
    "if value >= 0:\n",
    "    if value == 0 :\n",
    "        print('value is zero')\n",
    "    else :\n",
    "        print('entered value is positive no')\n",
    "else:\n",
    "    print('entered value is negative no.')    "
   ]
  },
  {
   "cell_type": "code",
   "execution_count": 7,
   "id": "92dc6773",
   "metadata": {},
   "outputs": [
    {
     "name": "stdout",
     "output_type": "stream",
     "text": [
      "try to do something\n"
     ]
    }
   ],
   "source": [
    "a = 10 \n",
    "if a < 10 or a==10 :\n",
    "    print('try to do something')"
   ]
  },
  {
   "cell_type": "code",
   "execution_count": 11,
   "id": "ac546b59",
   "metadata": {},
   "outputs": [
    {
     "name": "stdout",
     "output_type": "stream",
     "text": [
      "9\n",
      "try to do something\n"
     ]
    }
   ],
   "source": [
    "a = int(input()) \n",
    "if a < 10 or a==10 :\n",
    "    print('try to do something')"
   ]
  },
  {
   "cell_type": "code",
   "execution_count": 13,
   "id": "48b733f8",
   "metadata": {},
   "outputs": [
    {
     "name": "stdout",
     "output_type": "stream",
     "text": [
      "try to do something\n"
     ]
    }
   ],
   "source": [
    "a = 10 \n",
    "if a <= 10 and a==10 :\n",
    "    print('try to do something')"
   ]
  },
  {
   "cell_type": "code",
   "execution_count": 20,
   "id": "43d3f978",
   "metadata": {},
   "outputs": [],
   "source": [
    "a = 'nithin'\n",
    "if a =='nithin' and a ==\"Nithin\" :\n",
    "    print('this is currect')"
   ]
  },
  {
   "cell_type": "code",
   "execution_count": 19,
   "id": "f30ea12c",
   "metadata": {},
   "outputs": [
    {
     "name": "stdout",
     "output_type": "stream",
     "text": [
      "this is currect\n"
     ]
    }
   ],
   "source": [
    "a = 'nithin'\n",
    "if a =='nithin' or a ==\"Nithin\" :\n",
    "    print('this is currect')"
   ]
  },
  {
   "cell_type": "code",
   "execution_count": 21,
   "id": "714e6b6c",
   "metadata": {},
   "outputs": [
    {
     "name": "stdout",
     "output_type": "stream",
     "text": [
      "this is currect\n"
     ]
    }
   ],
   "source": [
    "a = 100\n",
    "if a <=100 and a==100:\n",
    "    print('this is currect')"
   ]
  },
  {
   "cell_type": "code",
   "execution_count": 23,
   "id": "df93bbb5",
   "metadata": {},
   "outputs": [],
   "source": [
    "a = 10\n",
    "b = 11\n",
    "c = 12\n",
    "d = 14\n",
    "if a == 9 and b == 11 and c == 12 and d == 13 :\n",
    "    print('lets do something')"
   ]
  },
  {
   "cell_type": "code",
   "execution_count": 26,
   "id": "a9d75297",
   "metadata": {},
   "outputs": [
    {
     "name": "stdout",
     "output_type": "stream",
     "text": [
      "lets do something\n"
     ]
    }
   ],
   "source": [
    "a = 10\n",
    "b = 11\n",
    "c = 12\n",
    "d = 13\n",
    "if a == 9 or b == 11 and c == 12 and d == 13 :\n",
    "    print('lets do something')"
   ]
  },
  {
   "cell_type": "code",
   "execution_count": 29,
   "id": "250a5424",
   "metadata": {},
   "outputs": [
    {
     "name": "stdout",
     "output_type": "stream",
     "text": [
      "dict_values(['value', 'nithin', 'python'])\n"
     ]
    }
   ],
   "source": [
    "d = {'key' : 'value' , 'key2' : 'nithin' , 'key3' : 'python'}\n",
    "if d['key'] == 'value' and d['key2'] == 'nithin'  and d['key3'] == 'python' :\n",
    "    print(d.values())"
   ]
  },
  {
   "cell_type": "code",
   "execution_count": 30,
   "id": "13e9ba95",
   "metadata": {},
   "outputs": [
    {
     "name": "stdout",
     "output_type": "stream",
     "text": [
      "all the values are not currect\n"
     ]
    }
   ],
   "source": [
    "d = {'key' : 'value' , 'key2' : 'nithin' , 'key3' : 'python'}\n",
    "if d['key'] == 'value' and d['key2'] == 'sachin'  and d['key3'] == 'python' :\n",
    "    print(d.values())\n",
    "else:\n",
    "    print('all the values are not currect')"
   ]
  },
  {
   "cell_type": "code",
   "execution_count": 1,
   "id": "91230bf5",
   "metadata": {},
   "outputs": [],
   "source": [
    "l = [1,2,3,4,5,'nithin',40.40]"
   ]
  },
  {
   "cell_type": "code",
   "execution_count": 2,
   "id": "ad538953",
   "metadata": {},
   "outputs": [
    {
     "data": {
      "text/plain": [
       "1"
      ]
     },
     "execution_count": 2,
     "metadata": {},
     "output_type": "execute_result"
    }
   ],
   "source": [
    "l[0]"
   ]
  },
  {
   "cell_type": "code",
   "execution_count": 3,
   "id": "7e87d3ba",
   "metadata": {},
   "outputs": [
    {
     "data": {
      "text/plain": [
       "4"
      ]
     },
     "execution_count": 3,
     "metadata": {},
     "output_type": "execute_result"
    }
   ],
   "source": [
    "l[3]"
   ]
  },
  {
   "cell_type": "code",
   "execution_count": 5,
   "id": "63f2e921",
   "metadata": {},
   "outputs": [
    {
     "data": {
      "text/plain": [
       "[3, 4, 5]"
      ]
     },
     "execution_count": 5,
     "metadata": {},
     "output_type": "execute_result"
    }
   ],
   "source": [
    "l[2:5]"
   ]
  },
  {
   "cell_type": "code",
   "execution_count": 6,
   "id": "efdfad80",
   "metadata": {},
   "outputs": [
    {
     "name": "stdout",
     "output_type": "stream",
     "text": [
      "1\n",
      "2\n",
      "3\n",
      "4\n",
      "5\n",
      "nithin\n",
      "40.4\n"
     ]
    }
   ],
   "source": [
    "for i in l:\n",
    "    print(i)"
   ]
  },
  {
   "cell_type": "code",
   "execution_count": 7,
   "id": "828de43c",
   "metadata": {},
   "outputs": [],
   "source": [
    "a = (1,2,3,4,5,'nithin',40.40)"
   ]
  },
  {
   "cell_type": "code",
   "execution_count": 8,
   "id": "c0f7b193",
   "metadata": {},
   "outputs": [
    {
     "data": {
      "text/plain": [
       "tuple"
      ]
     },
     "execution_count": 8,
     "metadata": {},
     "output_type": "execute_result"
    }
   ],
   "source": [
    "type(a)"
   ]
  },
  {
   "cell_type": "code",
   "execution_count": 9,
   "id": "24ae0960",
   "metadata": {},
   "outputs": [
    {
     "name": "stdout",
     "output_type": "stream",
     "text": [
      "1\n",
      "2\n",
      "3\n",
      "4\n",
      "5\n",
      "nithin\n",
      "40.4\n"
     ]
    }
   ],
   "source": [
    "for i in a:\n",
    "    print(i)"
   ]
  },
  {
   "cell_type": "code",
   "execution_count": 10,
   "id": "bbae583f",
   "metadata": {},
   "outputs": [
    {
     "name": "stdout",
     "output_type": "stream",
     "text": [
      "2\n",
      "3\n",
      "4\n",
      "5\n",
      "6\n"
     ]
    },
    {
     "ename": "TypeError",
     "evalue": "can only concatenate str (not \"int\") to str",
     "output_type": "error",
     "traceback": [
      "\u001b[1;31m---------------------------------------------------------------------------\u001b[0m",
      "\u001b[1;31mTypeError\u001b[0m                                 Traceback (most recent call last)",
      "Input \u001b[1;32mIn [10]\u001b[0m, in \u001b[0;36m<cell line: 1>\u001b[1;34m()\u001b[0m\n\u001b[0;32m      1\u001b[0m \u001b[38;5;28;01mfor\u001b[39;00m i \u001b[38;5;129;01min\u001b[39;00m a:\n\u001b[1;32m----> 2\u001b[0m     \u001b[38;5;28mprint\u001b[39m(\u001b[43mi\u001b[49m\u001b[43m \u001b[49m\u001b[38;5;241;43m+\u001b[39;49m\u001b[43m \u001b[49m\u001b[38;5;241;43m1\u001b[39;49m)\n",
      "\u001b[1;31mTypeError\u001b[0m: can only concatenate str (not \"int\") to str"
     ]
    }
   ],
   "source": [
    "for i in a:\n",
    "    print(i + 1)"
   ]
  },
  {
   "cell_type": "code",
   "execution_count": 14,
   "id": "508d970b",
   "metadata": {},
   "outputs": [],
   "source": [
    "a1 = (1,2,3,4,5,str('nithin'),40.40)"
   ]
  },
  {
   "cell_type": "code",
   "execution_count": 17,
   "id": "04e5f179",
   "metadata": {},
   "outputs": [
    {
     "name": "stdout",
     "output_type": "stream",
     "text": [
      "2\n",
      "3\n",
      "4\n",
      "5\n",
      "6\n"
     ]
    },
    {
     "ename": "TypeError",
     "evalue": "can only concatenate str (not \"int\") to str",
     "output_type": "error",
     "traceback": [
      "\u001b[1;31m---------------------------------------------------------------------------\u001b[0m",
      "\u001b[1;31mTypeError\u001b[0m                                 Traceback (most recent call last)",
      "Input \u001b[1;32mIn [17]\u001b[0m, in \u001b[0;36m<cell line: 1>\u001b[1;34m()\u001b[0m\n\u001b[0;32m      1\u001b[0m \u001b[38;5;28;01mfor\u001b[39;00m i \u001b[38;5;129;01min\u001b[39;00m a1 :\n\u001b[1;32m----> 2\u001b[0m     \u001b[38;5;28mprint\u001b[39m(\u001b[43mi\u001b[49m\u001b[38;5;241;43m+\u001b[39;49m\u001b[38;5;241;43m1\u001b[39;49m)\n",
      "\u001b[1;31mTypeError\u001b[0m: can only concatenate str (not \"int\") to str"
     ]
    }
   ],
   "source": [
    "for i in a1 :\n",
    "    print(i+1)"
   ]
  },
  {
   "cell_type": "code",
   "execution_count": 18,
   "id": "f7944280",
   "metadata": {},
   "outputs": [
    {
     "data": {
      "text/plain": [
       "[1, 2, 3, 4, 5, 'nithin', 40.4]"
      ]
     },
     "execution_count": 18,
     "metadata": {},
     "output_type": "execute_result"
    }
   ],
   "source": [
    "l"
   ]
  },
  {
   "cell_type": "code",
   "execution_count": 20,
   "id": "c961a520",
   "metadata": {},
   "outputs": [
    {
     "name": "stdout",
     "output_type": "stream",
     "text": [
      "2\n",
      "3\n",
      "4\n",
      "5\n",
      "6\n",
      "nithin1\n",
      "41.4\n"
     ]
    }
   ],
   "source": [
    "for i in l:\n",
    "    if type(i) == int:\n",
    "        print(i+1)\n",
    "    elif type(i) == str :\n",
    "        print(i + str(1))\n",
    "    elif type(i)== float:\n",
    "        print(i + float(1))"
   ]
  },
  {
   "cell_type": "code",
   "execution_count": 23,
   "id": "04f2707e",
   "metadata": {},
   "outputs": [
    {
     "name": "stdout",
     "output_type": "stream",
     "text": [
      "2\n",
      "3\n",
      "4\n",
      "5\n",
      "6\n",
      "nithin1\n",
      "41.4\n"
     ]
    }
   ],
   "source": [
    "for i in l:\n",
    "    if type(i) == int or type(i) == float:\n",
    "        print(i+1)\n",
    "    elif type(i) == str :\n",
    "        print(i + str(1))\n",
    "    "
   ]
  },
  {
   "cell_type": "code",
   "execution_count": 24,
   "id": "a449cc03",
   "metadata": {},
   "outputs": [],
   "source": [
    "value = [1,2,3,4,'nithin',404.4]"
   ]
  },
  {
   "cell_type": "code",
   "execution_count": 25,
   "id": "e3bd8319",
   "metadata": {},
   "outputs": [
    {
     "name": "stdout",
     "output_type": "stream",
     "text": [
      "1\n",
      "2\n",
      "3\n",
      "4\n",
      "nithin\n",
      "404.4\n"
     ]
    }
   ],
   "source": [
    "for i in value:\n",
    "    print(i)"
   ]
  },
  {
   "cell_type": "code",
   "execution_count": 26,
   "id": "aab5c780",
   "metadata": {},
   "outputs": [
    {
     "data": {
      "text/plain": [
       "[1, 2, 3, 4, 5, 'nithin', 40.4]"
      ]
     },
     "execution_count": 26,
     "metadata": {},
     "output_type": "execute_result"
    }
   ],
   "source": [
    "l"
   ]
  },
  {
   "cell_type": "code",
   "execution_count": 27,
   "id": "596db9c4",
   "metadata": {},
   "outputs": [],
   "source": [
    "l1 = []\n",
    "for i in l :\n",
    "    if type (i) == int:\n",
    "        l1.append(i)\n",
    "    "
   ]
  },
  {
   "cell_type": "code",
   "execution_count": 28,
   "id": "0cd451c3",
   "metadata": {},
   "outputs": [
    {
     "data": {
      "text/plain": [
       "[1, 2, 3, 4, 5]"
      ]
     },
     "execution_count": 28,
     "metadata": {},
     "output_type": "execute_result"
    }
   ],
   "source": [
    "l1"
   ]
  },
  {
   "cell_type": "code",
   "execution_count": 30,
   "id": "3711b673",
   "metadata": {},
   "outputs": [],
   "source": [
    "l2 =[]\n",
    "for i in l :\n",
    "    if type(i) == str:\n",
    "        l2.append(i)"
   ]
  },
  {
   "cell_type": "code",
   "execution_count": 31,
   "id": "35aa9685",
   "metadata": {},
   "outputs": [
    {
     "data": {
      "text/plain": [
       "['nithin']"
      ]
     },
     "execution_count": 31,
     "metadata": {},
     "output_type": "execute_result"
    }
   ],
   "source": [
    "l2"
   ]
  },
  {
   "cell_type": "code",
   "execution_count": 32,
   "id": "f800d9f7",
   "metadata": {},
   "outputs": [],
   "source": [
    "l3 = []\n",
    "for i in l:\n",
    "    if type (i) == int:\n",
    "        l3.append(i)\n",
    "    elif type(i) == float:\n",
    "        l3.append(i)"
   ]
  },
  {
   "cell_type": "code",
   "execution_count": 33,
   "id": "e02b1131",
   "metadata": {},
   "outputs": [
    {
     "data": {
      "text/plain": [
       "[1, 2, 3, 4, 5, 40.4]"
      ]
     },
     "execution_count": 33,
     "metadata": {},
     "output_type": "execute_result"
    }
   ],
   "source": [
    "l3"
   ]
  },
  {
   "cell_type": "code",
   "execution_count": 36,
   "id": "0eeb4e0c",
   "metadata": {},
   "outputs": [],
   "source": [
    "l4 = []\n",
    "for i in l:\n",
    "    if type(i) == int:\n",
    "        l.count(i)"
   ]
  },
  {
   "cell_type": "code",
   "execution_count": 37,
   "id": "29a68d39",
   "metadata": {},
   "outputs": [
    {
     "data": {
      "text/plain": [
       "[]"
      ]
     },
     "execution_count": 37,
     "metadata": {},
     "output_type": "execute_result"
    }
   ],
   "source": [
    "l4"
   ]
  },
  {
   "cell_type": "code",
   "execution_count": null,
   "id": "b807be71",
   "metadata": {},
   "outputs": [],
   "source": []
  },
  {
   "cell_type": "code",
   "execution_count": null,
   "id": "a2d53af3",
   "metadata": {},
   "outputs": [],
   "source": []
  }
 ],
 "metadata": {
  "kernelspec": {
   "display_name": "Python 3 (ipykernel)",
   "language": "python",
   "name": "python3"
  },
  "language_info": {
   "codemirror_mode": {
    "name": "ipython",
    "version": 3
   },
   "file_extension": ".py",
   "mimetype": "text/x-python",
   "name": "python",
   "nbconvert_exporter": "python",
   "pygments_lexer": "ipython3",
   "version": "3.9.12"
  }
 },
 "nbformat": 4,
 "nbformat_minor": 5
}

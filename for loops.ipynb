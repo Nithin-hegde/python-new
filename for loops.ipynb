{
 "cells": [
  {
   "cell_type": "code",
   "execution_count": 43,
   "id": "69b79b8f",
   "metadata": {},
   "outputs": [],
   "source": [
    "l = [1,2,3,4,5,'nithin', 50.50]"
   ]
  },
  {
   "cell_type": "code",
   "execution_count": 45,
   "id": "361e9653",
   "metadata": {},
   "outputs": [
    {
     "name": "stdout",
     "output_type": "stream",
     "text": [
      "1\n",
      "2\n",
      "3\n",
      "4\n",
      "5\n",
      "nithin\n",
      "50.5\n"
     ]
    }
   ],
   "source": [
    "for i in l : # for loop\n",
    "    print(i)"
   ]
  },
  {
   "cell_type": "code",
   "execution_count": 5,
   "id": "3bbf37db",
   "metadata": {},
   "outputs": [
    {
     "name": "stdout",
     "output_type": "stream",
     "text": [
      "[1, 2, 3, 4, 5, 'nithin', 50.5]\n",
      "[1, 2, 3, 4, 5, 'nithin', 50.5]\n",
      "[1, 2, 3, 4, 5, 'nithin', 50.5]\n",
      "[1, 2, 3, 4, 5, 'nithin', 50.5]\n",
      "[1, 2, 3, 4, 5, 'nithin', 50.5]\n",
      "[1, 2, 3, 4, 5, 'nithin', 50.5]\n",
      "[1, 2, 3, 4, 5, 'nithin', 50.5]\n"
     ]
    }
   ],
   "source": [
    "a = [1,2,3,4,5,'nithin', 50.50]\n",
    "for b in a :\n",
    "    print(a)"
   ]
  },
  {
   "cell_type": "code",
   "execution_count": 7,
   "id": "7f775d1e",
   "metadata": {},
   "outputs": [
    {
     "name": "stdout",
     "output_type": "stream",
     "text": [
      "n\n",
      "i\n",
      "t\n",
      "h\n",
      "i\n",
      "n\n"
     ]
    }
   ],
   "source": [
    "a1 = \"nithin\"\n",
    "for i in a1 :\n",
    "    print(i)"
   ]
  },
  {
   "cell_type": "code",
   "execution_count": 10,
   "id": "1947e4d5",
   "metadata": {},
   "outputs": [
    {
     "name": "stdout",
     "output_type": "stream",
     "text": [
      "50.50\n",
      "50.50\n",
      "50.50\n",
      "50.50\n",
      "50.50\n"
     ]
    }
   ],
   "source": [
    "a2 = '50.50'\n",
    "for i in a2:\n",
    "    print(a2)"
   ]
  },
  {
   "cell_type": "code",
   "execution_count": 11,
   "id": "a37c4dbd",
   "metadata": {},
   "outputs": [
    {
     "data": {
      "text/plain": [
       "[1, 2, 3, 4, 5, 'nithin', 50.5]"
      ]
     },
     "execution_count": 11,
     "metadata": {},
     "output_type": "execute_result"
    }
   ],
   "source": [
    "l"
   ]
  },
  {
   "cell_type": "code",
   "execution_count": 12,
   "id": "9d0237b6",
   "metadata": {},
   "outputs": [
    {
     "name": "stdout",
     "output_type": "stream",
     "text": [
      "1\n",
      "2\n",
      "3\n",
      "4\n",
      "5\n",
      "nithin\n",
      "50.5\n",
      "if for loop is goin to complete itself then it will excecute\n"
     ]
    }
   ],
   "source": [
    "for i in l:\n",
    "    print(i)\n",
    "else:\n",
    "    print('if for loop is goin to complete itself then it will excecute')"
   ]
  },
  {
   "cell_type": "code",
   "execution_count": 13,
   "id": "deed5451",
   "metadata": {},
   "outputs": [
    {
     "name": "stdout",
     "output_type": "stream",
     "text": [
      "1\n",
      "2\n",
      "3\n"
     ]
    }
   ],
   "source": [
    "for i in l:\n",
    "    if i == 4:\n",
    "        break\n",
    "    print(i)\n",
    "else:\n",
    "    print('this will only excecute only if for going to comolete')"
   ]
  },
  {
   "cell_type": "code",
   "execution_count": 9,
   "id": "96f95f5c",
   "metadata": {},
   "outputs": [],
   "source": [
    "a = [1,2,3,4,'nithin',50.50]"
   ]
  },
  {
   "cell_type": "code",
   "execution_count": 10,
   "id": "6d4bc2b6",
   "metadata": {},
   "outputs": [
    {
     "name": "stdout",
     "output_type": "stream",
     "text": [
      "1\n",
      "2\n",
      "3\n",
      "4\n",
      "nithin\n",
      "50.5\n"
     ]
    }
   ],
   "source": [
    "for i in a :\n",
    "    print(i)"
   ]
  },
  {
   "cell_type": "code",
   "execution_count": 14,
   "id": "47c1a8ee",
   "metadata": {},
   "outputs": [
    {
     "name": "stdout",
     "output_type": "stream",
     "text": [
      "1\n",
      "2\n",
      "3\n"
     ]
    }
   ],
   "source": [
    "for i in a:\n",
    "    if i ==4 :\n",
    "        break\n",
    "    print(i)\n",
    "\n",
    "        "
   ]
  },
  {
   "cell_type": "code",
   "execution_count": 23,
   "id": "a6081496",
   "metadata": {},
   "outputs": [
    {
     "name": "stdout",
     "output_type": "stream",
     "text": [
      "e\n",
      "l\n",
      "e\n",
      "p\n",
      "h\n",
      "a\n"
     ]
    }
   ],
   "source": [
    "a1 = 'elephant'\n",
    "for i in a1 :\n",
    "    if i == 'n':\n",
    "        break\n",
    "    print(i)\n",
    "else:\n",
    "    print('print string' , a1)"
   ]
  },
  {
   "cell_type": "code",
   "execution_count": 22,
   "id": "60272a26",
   "metadata": {},
   "outputs": [
    {
     "name": "stdout",
     "output_type": "stream",
     "text": [
      "e\n",
      "l\n",
      "e\n",
      "p\n",
      "h\n",
      "a\n",
      "n\n",
      "t\n",
      "print string elephant\n"
     ]
    }
   ],
   "source": [
    "a1 = 'elephant'\n",
    "for i in a1 :\n",
    "    if i == 'z':\n",
    "        break\n",
    "    print(i)\n",
    "else:\n",
    "    print('print string' , a1)"
   ]
  },
  {
   "cell_type": "code",
   "execution_count": 38,
   "id": "137d1a02",
   "metadata": {},
   "outputs": [],
   "source": [
    "t = (1,2,3,4,5,6,'nithin',50.50) #tuple"
   ]
  },
  {
   "cell_type": "code",
   "execution_count": 39,
   "id": "f19b6bc7",
   "metadata": {},
   "outputs": [
    {
     "name": "stdout",
     "output_type": "stream",
     "text": [
      "1\n",
      "2\n",
      "3\n",
      "4\n",
      "5\n",
      "6\n",
      "nithin\n",
      "50.5\n"
     ]
    }
   ],
   "source": [
    "for i in t:\n",
    "    print(i)"
   ]
  },
  {
   "cell_type": "code",
   "execution_count": 32,
   "id": "d5165229",
   "metadata": {},
   "outputs": [],
   "source": [
    "s = {1,2,3,4,5,4,5,5,5,5,6,7,8,9,9,9,\"nithin\",50.50}"
   ]
  },
  {
   "cell_type": "code",
   "execution_count": 33,
   "id": "919291d9",
   "metadata": {},
   "outputs": [
    {
     "data": {
      "text/plain": [
       "set"
      ]
     },
     "execution_count": 33,
     "metadata": {},
     "output_type": "execute_result"
    }
   ],
   "source": [
    "type(s)"
   ]
  },
  {
   "cell_type": "code",
   "execution_count": 34,
   "id": "057ae1a5",
   "metadata": {},
   "outputs": [
    {
     "name": "stdout",
     "output_type": "stream",
     "text": [
      "1\n",
      "2\n",
      "3\n",
      "4\n",
      "5\n",
      "6\n",
      "7\n",
      "8\n",
      "9\n",
      "nithin\n",
      "50.5\n"
     ]
    }
   ],
   "source": [
    "for i in s:\n",
    "    print(i)"
   ]
  },
  {
   "cell_type": "code",
   "execution_count": 30,
   "id": "a39763ba",
   "metadata": {},
   "outputs": [
    {
     "data": {
      "text/plain": [
       "{1, 2, 3, 4, 5, 50.5, 'nithin'}"
      ]
     },
     "execution_count": 30,
     "metadata": {},
     "output_type": "execute_result"
    }
   ],
   "source": [
    "s"
   ]
  },
  {
   "cell_type": "code",
   "execution_count": 35,
   "id": "4fce6838",
   "metadata": {},
   "outputs": [
    {
     "data": {
      "text/plain": [
       "{1, 2, 3, 4, 5, 50.5, 6, 7, 8, 9, 'nithin'}"
      ]
     },
     "execution_count": 35,
     "metadata": {},
     "output_type": "execute_result"
    }
   ],
   "source": [
    "s"
   ]
  },
  {
   "cell_type": "code",
   "execution_count": 37,
   "id": "00fc0771",
   "metadata": {},
   "outputs": [
    {
     "name": "stdout",
     "output_type": "stream",
     "text": [
      "1\n",
      "2\n",
      "3\n",
      "4\n",
      "5\n",
      "6\n",
      "7\n",
      "8\n",
      "9\n",
      "nithin\n",
      "50.5\n"
     ]
    }
   ],
   "source": [
    "for i in s:\n",
    "    print(i) # set"
   ]
  },
  {
   "cell_type": "code",
   "execution_count": 48,
   "id": "9664aeb7",
   "metadata": {},
   "outputs": [],
   "source": [
    "d ={'key':'nithin', 'key1':'sachin', 'key2':'nagendra'}"
   ]
  },
  {
   "cell_type": "code",
   "execution_count": 49,
   "id": "60e4111f",
   "metadata": {},
   "outputs": [
    {
     "name": "stdout",
     "output_type": "stream",
     "text": [
      "key\n",
      "key1\n",
      "key2\n"
     ]
    }
   ],
   "source": [
    "for i in d:\n",
    "    print(i)"
   ]
  },
  {
   "cell_type": "code",
   "execution_count": 50,
   "id": "53bfaab0",
   "metadata": {},
   "outputs": [
    {
     "data": {
      "text/plain": [
       "'nithin'"
      ]
     },
     "execution_count": 50,
     "metadata": {},
     "output_type": "execute_result"
    }
   ],
   "source": [
    "d['key']"
   ]
  },
  {
   "cell_type": "code",
   "execution_count": 51,
   "id": "5ce5ccf8",
   "metadata": {},
   "outputs": [
    {
     "name": "stdout",
     "output_type": "stream",
     "text": [
      "nithin\n",
      "sachin\n",
      "nagendra\n"
     ]
    }
   ],
   "source": [
    "for i in d:\n",
    "    print(d[i])"
   ]
  },
  {
   "cell_type": "code",
   "execution_count": 52,
   "id": "20e56c0c",
   "metadata": {},
   "outputs": [
    {
     "name": "stdout",
     "output_type": "stream",
     "text": [
      "key nithin\n",
      "key1 sachin\n",
      "key2 nagendra\n"
     ]
    }
   ],
   "source": [
    "for i in d:\n",
    "    print(i, d[i])"
   ]
  },
  {
   "cell_type": "code",
   "execution_count": 56,
   "id": "da28dde2",
   "metadata": {},
   "outputs": [
    {
     "name": "stdout",
     "output_type": "stream",
     "text": [
      "key : nithin\n",
      "key1 : sachin\n",
      "key2 : nagendra\n"
     ]
    }
   ],
   "source": [
    "for i in d:\n",
    "    print(i, \":\" , d[i])"
   ]
  },
  {
   "cell_type": "code",
   "execution_count": 57,
   "id": "ded36e7e",
   "metadata": {},
   "outputs": [
    {
     "data": {
      "text/plain": [
       "{'key': 'nithin', 'key1': 'sachin', 'key2': 'nagendra'}"
      ]
     },
     "execution_count": 57,
     "metadata": {},
     "output_type": "execute_result"
    }
   ],
   "source": [
    "d"
   ]
  },
  {
   "cell_type": "code",
   "execution_count": 59,
   "id": "0c5ed224",
   "metadata": {},
   "outputs": [
    {
     "data": {
      "text/plain": [
       "'nithin'"
      ]
     },
     "execution_count": 59,
     "metadata": {},
     "output_type": "execute_result"
    }
   ],
   "source": [
    "d['key']"
   ]
  },
  {
   "cell_type": "code",
   "execution_count": 60,
   "id": "cde70439",
   "metadata": {},
   "outputs": [],
   "source": [
    "#Nustad for loop"
   ]
  },
  {
   "cell_type": "code",
   "execution_count": 61,
   "id": "8bcee292",
   "metadata": {},
   "outputs": [
    {
     "data": {
      "text/plain": [
       "range(0, 9)"
      ]
     },
     "execution_count": 61,
     "metadata": {},
     "output_type": "execute_result"
    }
   ],
   "source": [
    "range(9)"
   ]
  },
  {
   "cell_type": "code",
   "execution_count": 62,
   "id": "e42e3482",
   "metadata": {},
   "outputs": [
    {
     "data": {
      "text/plain": [
       "range(0, 0)"
      ]
     },
     "execution_count": 62,
     "metadata": {},
     "output_type": "execute_result"
    }
   ],
   "source": [
    "range(0)"
   ]
  },
  {
   "cell_type": "code",
   "execution_count": 63,
   "id": "041a207f",
   "metadata": {},
   "outputs": [
    {
     "data": {
      "text/plain": [
       "range(1, 5)"
      ]
     },
     "execution_count": 63,
     "metadata": {},
     "output_type": "execute_result"
    }
   ],
   "source": [
    "range(1,5)"
   ]
  },
  {
   "cell_type": "code",
   "execution_count": 65,
   "id": "a5db5c58",
   "metadata": {},
   "outputs": [
    {
     "data": {
      "text/plain": [
       "[0, 1, 2, 3, 4, 5, 6, 7, 8]"
      ]
     },
     "execution_count": 65,
     "metadata": {},
     "output_type": "execute_result"
    }
   ],
   "source": [
    "list(range(9))"
   ]
  },
  {
   "cell_type": "code",
   "execution_count": 66,
   "id": "567a8f59",
   "metadata": {},
   "outputs": [
    {
     "name": "stdout",
     "output_type": "stream",
     "text": [
      "0\n",
      "1\n",
      "2\n",
      "3\n",
      "4\n",
      "5\n",
      "6\n",
      "7\n",
      "8\n"
     ]
    }
   ],
   "source": [
    "for i in range(9):\n",
    "    print(i)"
   ]
  },
  {
   "cell_type": "code",
   "execution_count": 67,
   "id": "4d8c618c",
   "metadata": {},
   "outputs": [
    {
     "name": "stdout",
     "output_type": "stream",
     "text": [
      "0\n",
      "1\n",
      "2\n",
      "3\n",
      "4\n",
      "5\n",
      "6\n",
      "7\n"
     ]
    }
   ],
   "source": [
    "for i in range(8):\n",
    "    print(i)"
   ]
  },
  {
   "cell_type": "code",
   "execution_count": 71,
   "id": "5aee8373",
   "metadata": {},
   "outputs": [
    {
     "name": "stdout",
     "output_type": "stream",
     "text": [
      "0\n",
      "2\n",
      "4\n",
      "6\n",
      "8\n"
     ]
    }
   ],
   "source": [
    "for i in list(range(0,10,2)):\n",
    "    print(i)"
   ]
  },
  {
   "cell_type": "code",
   "execution_count": 73,
   "id": "f06adf35",
   "metadata": {},
   "outputs": [
    {
     "data": {
      "text/plain": [
       "[9, 8, 7, 6, 5, 4, 3, 2, 1]"
      ]
     },
     "execution_count": 73,
     "metadata": {},
     "output_type": "execute_result"
    }
   ],
   "source": [
    "list(range(9,0,-1)) # same direction"
   ]
  },
  {
   "cell_type": "code",
   "execution_count": 75,
   "id": "c9e03e68",
   "metadata": {},
   "outputs": [
    {
     "data": {
      "text/plain": [
       "[]"
      ]
     },
     "execution_count": 75,
     "metadata": {},
     "output_type": "execute_result"
    }
   ],
   "source": [
    "list(range(9,0,1)) # opposite direction"
   ]
  },
  {
   "cell_type": "code",
   "execution_count": 77,
   "id": "7185a05f",
   "metadata": {},
   "outputs": [
    {
     "name": "stdout",
     "output_type": "stream",
     "text": [
      "nithin \n",
      "\n",
      "nithin nithin \n",
      "\n",
      "nithin nithin nithin \n",
      "\n",
      "nithin nithin nithin nithin \n",
      "\n"
     ]
    }
   ],
   "source": [
    "n =4 # 4 rows and colunms\n",
    "for i in range(4): #(0,1,2,3)\n",
    "    for j in range(0, i+1):\n",
    "        print('nithin', end =\" \")\n",
    "    print('\\n')"
   ]
  },
  {
   "cell_type": "code",
   "execution_count": 78,
   "id": "41ef9601",
   "metadata": {},
   "outputs": [
    {
     "name": "stdout",
     "output_type": "stream",
     "text": [
      "anusha \n",
      "\n",
      "anusha anusha \n",
      "\n",
      "anusha anusha anusha \n",
      "\n",
      "anusha anusha anusha anusha \n",
      "\n",
      "anusha anusha anusha anusha anusha \n",
      "\n"
     ]
    }
   ],
   "source": [
    "x = 6\n",
    "for i in range(5) :\n",
    "    for z in range(0, i+1):\n",
    "        print('anusha', end=\" \")\n",
    "    print('\\n')"
   ]
  },
  {
   "cell_type": "code",
   "execution_count": 82,
   "id": "7d4cda87",
   "metadata": {},
   "outputs": [
    {
     "name": "stdout",
     "output_type": "stream",
     "text": [
      "anusha \n",
      "\n",
      "anusha anusha \n",
      "\n",
      "anusha anusha anusha \n",
      "\n",
      "anusha anusha anusha anusha \n",
      "\n",
      "anusha anusha anusha anusha anusha \n",
      "\n"
     ]
    }
   ],
   "source": [
    "x = 6\n",
    "for i in range(5) :\n",
    "    for z in range(0, i+1):\n",
    "        print('anusha', end=\" \")\n",
    "    print('\\n')"
   ]
  },
  {
   "cell_type": "code",
   "execution_count": 5,
   "id": "1470b335",
   "metadata": {},
   "outputs": [
    {
     "name": "stdout",
     "output_type": "stream",
     "text": [
      "anusha \n",
      "\n",
      "anusha anusha \n",
      "\n",
      "anusha anusha anusha \n",
      "\n"
     ]
    }
   ],
   "source": [
    "x = 3\n",
    "for i in range(3) :\n",
    "    for z in range(0, i+1):\n",
    "        print('anusha', end=\" \")\n",
    "    print('\\n')"
   ]
  },
  {
   "cell_type": "code",
   "execution_count": 9,
   "id": "96281d90",
   "metadata": {},
   "outputs": [
    {
     "ename": "SyntaxError",
     "evalue": "invalid syntax (858663888.py, line 3)",
     "output_type": "error",
     "traceback": [
      "\u001b[1;36m  Input \u001b[1;32mIn [9]\u001b[1;36m\u001b[0m\n\u001b[1;33m    for j in range(0 , i+1) and range(1, i+1)\u001b[0m\n\u001b[1;37m                                             ^\u001b[0m\n\u001b[1;31mSyntaxError\u001b[0m\u001b[1;31m:\u001b[0m invalid syntax\n"
     ]
    }
   ],
   "source": [
    "x =3\n",
    "for i in range(3):\n",
    "    for j in range(0 , i+1) and range(1, i+1)\n",
    "        print('sudh', end = \" \")\n",
    "    print('\\n')"
   ]
  },
  {
   "cell_type": "code",
   "execution_count": 18,
   "id": "5493ef60",
   "metadata": {},
   "outputs": [
    {
     "name": "stdout",
     "output_type": "stream",
     "text": [
      "          sudh \n",
      "     sudh sudh sudh \n",
      "sudh sudh sudh sudh sudh \n"
     ]
    }
   ],
   "source": [
    "n = 3\n",
    "for i in range(n):\n",
    "    for j in range(i,n-1):\n",
    "        print(' '*len('sudh'),end = \" \")\n",
    "    for j in range(i+1):\n",
    "        print('sudh', end=\" \")\n",
    "    for j in range(i):\n",
    "        print('sudh', end=\" \")\n",
    "    print()"
   ]
  },
  {
   "cell_type": "code",
   "execution_count": 20,
   "id": "17cc342b",
   "metadata": {},
   "outputs": [
    {
     "name": "stdout",
     "output_type": "stream",
     "text": [
      "               "
     ]
    }
   ],
   "source": [
    "a = 4\n",
    "for i in range(a):\n",
    "    for j in range(i, n-1):\n",
    "        print(' '*len('sudh'), end=' ')"
   ]
  },
  {
   "cell_type": "code",
   "execution_count": 25,
   "id": "7036d20e",
   "metadata": {},
   "outputs": [
    {
     "name": "stdout",
     "output_type": "stream",
     "text": [
      "  \n",
      "  sudh  \n",
      "  sudh  sudh  \n",
      "  sudh  sudh  sudh  \n"
     ]
    }
   ],
   "source": [
    "n = 3\n",
    "for i in range(n+1):\n",
    "    print(' '*(n-1)+ \"sudh  \" *i)"
   ]
  },
  {
   "cell_type": "code",
   "execution_count": 26,
   "id": "a7690425",
   "metadata": {},
   "outputs": [],
   "source": [
    "t =(2,3,43,55,67,2,4,6,7,9)"
   ]
  },
  {
   "cell_type": "code",
   "execution_count": 35,
   "id": "80ba548c",
   "metadata": {},
   "outputs": [
    {
     "name": "stdout",
     "output_type": "stream",
     "text": [
      "0 2\n",
      "1 3\n",
      "2 43\n",
      "3 55\n",
      "4 67\n",
      "5 2\n",
      "6 4\n",
      "7 6\n",
      "8 7\n",
      "9 9\n"
     ]
    }
   ],
   "source": [
    "for i in range(len(t)):\n",
    "    print(i, t[i])"
   ]
  },
  {
   "cell_type": "code",
   "execution_count": 36,
   "id": "0d350137",
   "metadata": {},
   "outputs": [
    {
     "data": {
      "text/plain": [
       "55"
      ]
     },
     "execution_count": 36,
     "metadata": {},
     "output_type": "execute_result"
    }
   ],
   "source": [
    "t[3]"
   ]
  },
  {
   "cell_type": "code",
   "execution_count": 40,
   "id": "2a754e2f",
   "metadata": {},
   "outputs": [
    {
     "data": {
      "text/plain": [
       "(2, 3, 43, 55, 67, 2, 4, 6, 7, 9)"
      ]
     },
     "execution_count": 40,
     "metadata": {},
     "output_type": "execute_result"
    }
   ],
   "source": [
    "t"
   ]
  },
  {
   "cell_type": "code",
   "execution_count": 44,
   "id": "08172046",
   "metadata": {},
   "outputs": [
    {
     "name": "stdout",
     "output_type": "stream",
     "text": [
      "0 2\n",
      "1 3\n",
      "2 43\n",
      "3 55\n",
      "4 67\n",
      "5 2\n",
      "6 4\n",
      "7 6\n",
      "8 7\n",
      "9 9\n"
     ]
    }
   ],
   "source": [
    "for i in range(len(t)): #extract in tuple\n",
    "    print(i, t[i])"
   ]
  },
  {
   "cell_type": "code",
   "execution_count": 45,
   "id": "254a157d",
   "metadata": {},
   "outputs": [],
   "source": [
    "s = 'inueron'"
   ]
  },
  {
   "cell_type": "code",
   "execution_count": 49,
   "id": "30214491",
   "metadata": {},
   "outputs": [
    {
     "name": "stdout",
     "output_type": "stream",
     "text": [
      "0 i\n",
      "1 n\n",
      "2 u\n",
      "3 e\n",
      "4 r\n",
      "5 o\n",
      "6 n\n"
     ]
    }
   ],
   "source": [
    "for i in range(len(s)): #extract elements with indexs\n",
    "    print(i,s[i])"
   ]
  },
  {
   "cell_type": "code",
   "execution_count": 51,
   "id": "6fc1eef9",
   "metadata": {},
   "outputs": [
    {
     "data": {
      "text/plain": [
       "'inueron'"
      ]
     },
     "execution_count": 51,
     "metadata": {},
     "output_type": "execute_result"
    }
   ],
   "source": [
    "s"
   ]
  },
  {
   "cell_type": "code",
   "execution_count": 62,
   "id": "a4d1bc30",
   "metadata": {},
   "outputs": [
    {
     "name": "stdout",
     "output_type": "stream",
     "text": [
      "6 n\n",
      "5 o\n",
      "4 r\n",
      "3 e\n",
      "2 u\n",
      "1 n\n",
      "0 i\n"
     ]
    }
   ],
   "source": [
    "for i in list(range(len(s)-1,-1,-1)): # reverse of above index\n",
    "    print(i,s[i])"
   ]
  },
  {
   "cell_type": "code",
   "execution_count": 63,
   "id": "035fd2b3",
   "metadata": {},
   "outputs": [],
   "source": [
    "a = 'anusha'"
   ]
  },
  {
   "cell_type": "code",
   "execution_count": 68,
   "id": "a5dd7093",
   "metadata": {},
   "outputs": [
    {
     "name": "stdout",
     "output_type": "stream",
     "text": [
      "0 a\n",
      "1 n\n",
      "2 u\n",
      "3 s\n",
      "4 h\n",
      "5 a\n"
     ]
    }
   ],
   "source": [
    "for i in list(range(len(a))):\n",
    "    print(i,a[i])"
   ]
  },
  {
   "cell_type": "code",
   "execution_count": 78,
   "id": "a6ada4dc",
   "metadata": {},
   "outputs": [
    {
     "name": "stdout",
     "output_type": "stream",
     "text": [
      "5 a\n",
      "4 h\n",
      "3 s\n",
      "2 u\n",
      "1 n\n",
      "0 a\n"
     ]
    }
   ],
   "source": [
    "for i in list(range(len(a)-1,-1,-1)):\n",
    "    print(i,a[i])"
   ]
  },
  {
   "cell_type": "code",
   "execution_count": 80,
   "id": "9952c7a7",
   "metadata": {},
   "outputs": [],
   "source": [
    "d ={'key':'nithin', 'key1':'sachin', 'key2':'nagendra'}"
   ]
  },
  {
   "cell_type": "code",
   "execution_count": 81,
   "id": "9841f2c1",
   "metadata": {},
   "outputs": [
    {
     "data": {
      "text/plain": [
       "{'key': 'nithin', 'key1': 'sachin', 'key2': 'nagendra'}"
      ]
     },
     "execution_count": 81,
     "metadata": {},
     "output_type": "execute_result"
    }
   ],
   "source": [
    "d"
   ]
  },
  {
   "cell_type": "code",
   "execution_count": 82,
   "id": "828e2b79",
   "metadata": {},
   "outputs": [
    {
     "data": {
      "text/plain": [
       "dict_items([('key', 'nithin'), ('key1', 'sachin'), ('key2', 'nagendra')])"
      ]
     },
     "execution_count": 82,
     "metadata": {},
     "output_type": "execute_result"
    }
   ],
   "source": [
    "d.items() # extraction of data"
   ]
  },
  {
   "cell_type": "code",
   "execution_count": 84,
   "id": "37b09d5c",
   "metadata": {},
   "outputs": [
    {
     "name": "stdout",
     "output_type": "stream",
     "text": [
      "('key', 'nithin')\n",
      "('key1', 'sachin')\n",
      "('key2', 'nagendra')\n"
     ]
    }
   ],
   "source": [
    "for i in d.items():\n",
    "    print(i)"
   ]
  },
  {
   "cell_type": "code",
   "execution_count": 86,
   "id": "e21e8fef",
   "metadata": {},
   "outputs": [
    {
     "name": "stdout",
     "output_type": "stream",
     "text": [
      "('key', 'nithin') <class 'tuple'> <class 'str'>\n",
      "('key1', 'sachin') <class 'tuple'> <class 'str'>\n",
      "('key2', 'nagendra') <class 'tuple'> <class 'str'>\n"
     ]
    }
   ],
   "source": [
    "for i in d.items():\n",
    "    print(i, type(i),type(i[1]))"
   ]
  },
  {
   "cell_type": "code",
   "execution_count": 92,
   "id": "fb4257fc",
   "metadata": {},
   "outputs": [],
   "source": [
    "l = ['nithin','sachin',123456,'nithinhegde01@gmail.com',600,40000000] # all numeric in one side\n",
    "     "
   ]
  },
  {
   "cell_type": "code",
   "execution_count": 105,
   "id": "83467d4e",
   "metadata": {},
   "outputs": [
    {
     "name": "stdout",
     "output_type": "stream",
     "text": [
      "0 nithin <class 'int'>\n",
      "1 sachin <class 'int'>\n",
      "2 123456 <class 'int'>\n",
      "3 nithinhegde01@gmail.com <class 'int'>\n",
      "4 600 <class 'int'>\n",
      "5 40000000 <class 'int'>\n"
     ]
    }
   ],
   "source": [
    "l1= []\n",
    "for i in range(len(l)):\n",
    "    print(i,l[i], type(i),)\n",
    "    if type(i)==int:\n",
    "        l1.append(i)"
   ]
  },
  {
   "cell_type": "code",
   "execution_count": 103,
   "id": "5ffc326d",
   "metadata": {},
   "outputs": [
    {
     "data": {
      "text/plain": [
       "['nithin', 'sachin', 123456, 'nithinhegde01@gmail.com', 600, 40000000]"
      ]
     },
     "execution_count": 103,
     "metadata": {},
     "output_type": "execute_result"
    }
   ],
   "source": [
    "l"
   ]
  },
  {
   "cell_type": "code",
   "execution_count": 106,
   "id": "890110e6",
   "metadata": {},
   "outputs": [],
   "source": [
    "for i in l:\n",
    "    if type(i) == int:\n",
    "        l1.append(i)\n",
    "        "
   ]
  },
  {
   "cell_type": "code",
   "execution_count": 107,
   "id": "ad76adae",
   "metadata": {},
   "outputs": [
    {
     "data": {
      "text/plain": [
       "[0, 1, 2, 3, 4, 5, 123456, 600, 40000000]"
      ]
     },
     "execution_count": 107,
     "metadata": {},
     "output_type": "execute_result"
    }
   ],
   "source": [
    "l1"
   ]
  },
  {
   "cell_type": "code",
   "execution_count": 108,
   "id": "6e0b6ba7",
   "metadata": {},
   "outputs": [
    {
     "data": {
      "text/plain": [
       "{'key': 'nithin', 'key1': 'sachin', 'key2': 'nagendra'}"
      ]
     },
     "execution_count": 108,
     "metadata": {},
     "output_type": "execute_result"
    }
   ],
   "source": [
    "#key value players key must be numeric one\n",
    "d"
   ]
  },
  {
   "cell_type": "code",
   "execution_count": 109,
   "id": "b8f0d3c0",
   "metadata": {},
   "outputs": [],
   "source": [
    "d= {'key':'nithin', 'key1': 'sachin', 'key2': 'nagendra', 1:12345, 'email id':'nithin01@gmail.com', 450:34567,'43':'asdcf'}"
   ]
  },
  {
   "cell_type": "code",
   "execution_count": 112,
   "id": "69223fe6",
   "metadata": {},
   "outputs": [
    {
     "name": "stdout",
     "output_type": "stream",
     "text": [
      "1\n",
      "450\n"
     ]
    }
   ],
   "source": [
    "for i in d:\n",
    "    if type(i)==int:\n",
    "        print(i)"
   ]
  },
  {
   "cell_type": "code",
   "execution_count": 114,
   "id": "2c9a48a3",
   "metadata": {},
   "outputs": [
    {
     "name": "stdout",
     "output_type": "stream",
     "text": [
      "key <class 'str'>\n",
      "key1 <class 'str'>\n",
      "key2 <class 'str'>\n",
      "1 <class 'int'>\n",
      "email id <class 'str'>\n",
      "450 <class 'int'>\n",
      "43 <class 'str'>\n"
     ]
    }
   ],
   "source": [
    "for i in d:\n",
    "    print(i,type(i))"
   ]
  },
  {
   "cell_type": "code",
   "execution_count": 115,
   "id": "6c0dfad5",
   "metadata": {},
   "outputs": [
    {
     "name": "stdout",
     "output_type": "stream",
     "text": [
      "1 : 12345\n",
      "450 : 34567\n"
     ]
    }
   ],
   "source": [
    "for i in d:\n",
    "    if type(i)==int:\n",
    "        print(i , ':' , d[i])"
   ]
  },
  {
   "cell_type": "code",
   "execution_count": 116,
   "id": "54f224b9",
   "metadata": {},
   "outputs": [],
   "source": [
    "s = 'aabbcccdddeee' # output with different elements"
   ]
  },
  {
   "cell_type": "code",
   "execution_count": 124,
   "id": "13009fd4",
   "metadata": {},
   "outputs": [],
   "source": [
    "b = set[s]"
   ]
  },
  {
   "cell_type": "code",
   "execution_count": 125,
   "id": "d824ff52",
   "metadata": {},
   "outputs": [
    {
     "data": {
      "text/plain": [
       "set['aabbcccdddeee']"
      ]
     },
     "execution_count": 125,
     "metadata": {},
     "output_type": "execute_result"
    }
   ],
   "source": [
    "b"
   ]
  },
  {
   "cell_type": "code",
   "execution_count": 127,
   "id": "c3578362",
   "metadata": {},
   "outputs": [
    {
     "data": {
      "text/plain": [
       "2"
      ]
     },
     "execution_count": 127,
     "metadata": {},
     "output_type": "execute_result"
    }
   ],
   "source": [
    "s.count(\"a\")"
   ]
  },
  {
   "cell_type": "code",
   "execution_count": 131,
   "id": "cc49513e",
   "metadata": {},
   "outputs": [
    {
     "name": "stdout",
     "output_type": "stream",
     "text": [
      "d   0\n",
      "b   0\n",
      "e   0\n",
      "c   0\n",
      "a   0\n"
     ]
    }
   ],
   "source": [
    "for i in set(s):\n",
    "    print(i, ' ' , s.count('i'))"
   ]
  },
  {
   "cell_type": "code",
   "execution_count": 132,
   "id": "dfed3092",
   "metadata": {},
   "outputs": [
    {
     "data": {
      "text/plain": [
       "'aabbcccdddeee'"
      ]
     },
     "execution_count": 132,
     "metadata": {},
     "output_type": "execute_result"
    }
   ],
   "source": [
    "s"
   ]
  },
  {
   "cell_type": "code",
   "execution_count": 136,
   "id": "e31bd9f3",
   "metadata": {},
   "outputs": [
    {
     "name": "stdout",
     "output_type": "stream",
     "text": [
      "d   3\n",
      "b   2\n",
      "e   3\n",
      "c   3\n",
      "a   2\n"
     ]
    }
   ],
   "source": [
    "for i in set(s):\n",
    "    print(i, ' ' , s.count(i))"
   ]
  },
  {
   "cell_type": "code",
   "execution_count": 137,
   "id": "bdc58ae4",
   "metadata": {},
   "outputs": [
    {
     "ename": "TypeError",
     "evalue": "'int' object is not iterable",
     "output_type": "error",
     "traceback": [
      "\u001b[1;31m---------------------------------------------------------------------------\u001b[0m",
      "\u001b[1;31mTypeError\u001b[0m                                 Traceback (most recent call last)",
      "Input \u001b[1;32mIn [137]\u001b[0m, in \u001b[0;36m<cell line: 2>\u001b[1;34m()\u001b[0m\n\u001b[0;32m      1\u001b[0m i \u001b[38;5;241m=\u001b[39m \u001b[38;5;241m1234567890\u001b[39m\n\u001b[1;32m----> 2\u001b[0m \u001b[38;5;28;01mfor\u001b[39;00m j \u001b[38;5;129;01min\u001b[39;00m i:\n\u001b[0;32m      3\u001b[0m     \u001b[38;5;28mprint\u001b[39m(j)\n",
      "\u001b[1;31mTypeError\u001b[0m: 'int' object is not iterable"
     ]
    }
   ],
   "source": [
    "i = 1234567890 # int object is not iterable\n",
    "for j in i:\n",
    "    print(j)"
   ]
  },
  {
   "cell_type": "code",
   "execution_count": 138,
   "id": "64bd0843",
   "metadata": {},
   "outputs": [
    {
     "data": {
      "text/plain": [
       "'1234567890'"
      ]
     },
     "execution_count": 138,
     "metadata": {},
     "output_type": "execute_result"
    }
   ],
   "source": [
    "str(i)"
   ]
  },
  {
   "cell_type": "code",
   "execution_count": 140,
   "id": "ce3a6eaf",
   "metadata": {},
   "outputs": [
    {
     "name": "stdout",
     "output_type": "stream",
     "text": [
      "1 <class 'str'>\n",
      "2 <class 'str'>\n",
      "3 <class 'str'>\n",
      "4 <class 'str'>\n",
      "5 <class 'str'>\n",
      "6 <class 'str'>\n",
      "7 <class 'str'>\n",
      "8 <class 'str'>\n",
      "9 <class 'str'>\n",
      "0 <class 'str'>\n"
     ]
    }
   ],
   "source": [
    "for j in str(i):\n",
    "    print(j,type(j))"
   ]
  },
  {
   "cell_type": "code",
   "execution_count": 143,
   "id": "6c4cf252",
   "metadata": {},
   "outputs": [
    {
     "name": "stdout",
     "output_type": "stream",
     "text": [
      "1 <class 'int'>\n",
      "2 <class 'int'>\n",
      "3 <class 'int'>\n",
      "4 <class 'int'>\n",
      "5 <class 'int'>\n",
      "6 <class 'int'>\n",
      "7 <class 'int'>\n",
      "8 <class 'int'>\n",
      "9 <class 'int'>\n",
      "0 <class 'int'>\n"
     ]
    }
   ],
   "source": [
    "for j in str(i):\n",
    "    print(int(j),type(int(j)))"
   ]
  },
  {
   "cell_type": "code",
   "execution_count": 144,
   "id": "215ab6ff",
   "metadata": {},
   "outputs": [],
   "source": [
    "t = ('nithin', 'kumar', [1,2,3,4,5],(2,3,4,5,6),{'key':'nithin','key2':'sachin'}) # extract 3 in the tuple"
   ]
  },
  {
   "cell_type": "code",
   "execution_count": 150,
   "id": "98fe8ee1",
   "metadata": {},
   "outputs": [
    {
     "name": "stdout",
     "output_type": "stream",
     "text": [
      "nithin\n",
      "kumar\n",
      "3\n",
      "[1, 2, 3, 4, 5]\n",
      "3\n",
      "(2, 3, 4, 5, 6)\n",
      "{'key': 'nithin', 'key2': 'sachin'}\n"
     ]
    }
   ],
   "source": [
    "for i in t:\n",
    "    if type(i)==list or type(i)==tuple:\n",
    "        for j in i:\n",
    "            if j ==3:\n",
    "                print(j)\n",
    "    print(i)"
   ]
  },
  {
   "cell_type": "code",
   "execution_count": 151,
   "id": "b890fa79",
   "metadata": {},
   "outputs": [],
   "source": [
    "t = ('nithin', 'kumar', [1,2,3,4,5],(2,3,4,5,6),{'key':'nithin','key2':'sachin',3:12345}) "
   ]
  },
  {
   "cell_type": "code",
   "execution_count": 157,
   "id": "1267c520",
   "metadata": {},
   "outputs": [
    {
     "name": "stdout",
     "output_type": "stream",
     "text": [
      "3\n",
      "3\n",
      "3\n"
     ]
    }
   ],
   "source": [
    "for i in t:\n",
    "    if type(i)==list or type(i)==tuple or type(i)==dict:\n",
    "        for j in i:\n",
    "            if j==3:\n",
    "                print(j)"
   ]
  },
  {
   "cell_type": "code",
   "execution_count": 158,
   "id": "361d4cea",
   "metadata": {},
   "outputs": [],
   "source": [
    "t = ('nithin', 'kumar', [1,2,3,4,5],(2,3,4,5,6),{'key':'nithin','key2':'sachin',3:3}) "
   ]
  },
  {
   "cell_type": "code",
   "execution_count": 163,
   "id": "60343777",
   "metadata": {},
   "outputs": [
    {
     "name": "stdout",
     "output_type": "stream",
     "text": [
      "3\n",
      "3\n",
      "3\n",
      "3\n"
     ]
    }
   ],
   "source": [
    "for i in t: # important modification\n",
    "    if type(i)==list or type(i)==tuple:\n",
    "        for j in i:\n",
    "            if j==3:\n",
    "                print(j)\n",
    "    if type(i)==dict:\n",
    "        for k,v in i.items():\n",
    "            if k==3 or v == 3:\n",
    "                print(k)\n",
    "                print(v)"
   ]
  },
  {
   "cell_type": "code",
   "execution_count": 165,
   "id": "ab21100e",
   "metadata": {},
   "outputs": [],
   "source": [
    "c = {4:5, 'key':\"nithin\",'key1':'sachin'}"
   ]
  },
  {
   "cell_type": "code",
   "execution_count": 168,
   "id": "345e3dfa",
   "metadata": {},
   "outputs": [
    {
     "name": "stdout",
     "output_type": "stream",
     "text": [
      "(4, 5)\n",
      "('key', 'nithin')\n",
      "('key1', 'sachin')\n"
     ]
    }
   ],
   "source": [
    "for i in c.items():# results gets tuples\n",
    "    print(i)"
   ]
  },
  {
   "cell_type": "code",
   "execution_count": 169,
   "id": "3701ceab",
   "metadata": {},
   "outputs": [
    {
     "data": {
      "text/plain": [
       "dict_items([(4, 5), ('key', 'nithin'), ('key1', 'sachin')])"
      ]
     },
     "execution_count": 169,
     "metadata": {},
     "output_type": "execute_result"
    }
   ],
   "source": [
    "c.items()"
   ]
  },
  {
   "cell_type": "code",
   "execution_count": 170,
   "id": "edd68473",
   "metadata": {},
   "outputs": [],
   "source": [
    "a = 10 # both the result are same \n",
    "b = 20\n",
    "c = 30"
   ]
  },
  {
   "cell_type": "code",
   "execution_count": 172,
   "id": "9e5916f2",
   "metadata": {},
   "outputs": [],
   "source": [
    "a,b,c = 10,20,30"
   ]
  },
  {
   "cell_type": "code",
   "execution_count": null,
   "id": "1350b58a",
   "metadata": {},
   "outputs": [],
   "source": [
    "#q1\n"
   ]
  },
  {
   "cell_type": "code",
   "execution_count": 174,
   "id": "a87795fa",
   "metadata": {},
   "outputs": [
    {
     "name": "stdout",
     "output_type": "stream",
     "text": [
      "ineuron \n",
      "\n",
      "ineuron ineuron \n",
      "\n",
      "ineuron ineuron ineuron \n",
      "\n",
      "ineuron ineuron ineuron ineuron \n",
      "\n"
     ]
    }
   ],
   "source": [
    "#q1 \n",
    "n = 4\n",
    "for i in range(4):\n",
    "    for j in range(0,i+1):\n",
    "        print('ineuron', end=' ')\n",
    "    print('\\n')"
   ]
  },
  {
   "cell_type": "code",
   "execution_count": 180,
   "id": "4fffda2b",
   "metadata": {},
   "outputs": [
    {
     "name": "stdout",
     "output_type": "stream",
     "text": [
      "                inueron \n",
      "        inueron inueron inueron \n",
      "inueron inueron inueron inueron inueron inueron \n"
     ]
    }
   ],
   "source": [
    "#Q2\n",
    "\n",
    "n = 3\n",
    "for i in range(n):\n",
    "    for j in range(i,n-1):\n",
    "        print(' '*len('inueron'),end = \" \")\n",
    "    for j in range(i+1):\n",
    "        print('inueron', end=\" \")\n",
    "    for j in range(i):\n",
    "        print('inueron', end=\" \")\n",
    "    for k in range(i-1):\n",
    "        print('inueron', end=\" \")\n",
    "    print()"
   ]
  },
  {
   "cell_type": "code",
   "execution_count": 183,
   "id": "1f7084df",
   "metadata": {},
   "outputs": [],
   "source": [
    "a=range(0,2)"
   ]
  },
  {
   "cell_type": "code",
   "execution_count": 184,
   "id": "14beb9a4",
   "metadata": {},
   "outputs": [
    {
     "data": {
      "text/plain": [
       "range(0, 2)"
      ]
     },
     "execution_count": 184,
     "metadata": {},
     "output_type": "execute_result"
    }
   ],
   "source": [
    "a"
   ]
  },
  {
   "cell_type": "code",
   "execution_count": 215,
   "id": "95833b90",
   "metadata": {},
   "outputs": [
    {
     "name": "stdout",
     "output_type": "stream",
     "text": [
      "                    sudh \n",
      "               sudh sudh sudh sudh \n",
      "          sudh sudh sudh sudh sudh sudh sudh \n",
      "     sudh sudh sudh sudh sudh sudh sudh sudh sudh sudh \n",
      "sudh sudh sudh sudh sudh sudh sudh sudh sudh sudh sudh sudh sudh \n"
     ]
    }
   ],
   "source": [
    "n=5\n",
    "for i in range(n):\n",
    "    for j in range(i,n-1): #(0,1,2,3,4)\n",
    "        print(' '*len('sudh'), end=' ')\n",
    "    for j in range(i+1):\n",
    "        print('sudh', end=' ')\n",
    "    for j in range(i):\n",
    "        print('sudh', end=' ')\n",
    "    for j in range(i):\n",
    "        print('sudh', end=' ')\n",
    "    print()"
   ]
  },
  {
   "cell_type": "code",
   "execution_count": 234,
   "id": "bef9cdb7",
   "metadata": {},
   "outputs": [
    {
     "name": "stdout",
     "output_type": "stream",
     "text": [
      "                    sudh \n",
      "               sudh sudh sudh \n",
      "          sudh sudh sudh sudh sudh \n",
      "     sudh sudh sudh sudh sudh sudh sudh \n",
      "                    \n",
      "sudh                \n",
      "sudh sudh sudh           \n",
      "sudh sudh sudh sudh sudh      \n",
      "sudh sudh sudh sudh sudh sudh sudh \n"
     ]
    }
   ],
   "source": [
    "n = 5\n",
    "for i in range(n-1):\n",
    "    for j in range(i,n-1):\n",
    "        print(' '*len('sudh'), end=\" \")\n",
    "    for j in range(i+1):\n",
    "        print('sudh', end=' ')\n",
    "    for j in range(i):\n",
    "        print('sudh', end=' ')\n",
    "    print()\n",
    "for i in range(n):\n",
    "    for k in range(i):\n",
    "        print('sudh', end= ' ')\n",
    "    for k in range(i-1):\n",
    "        print('sudh', end=' ')\n",
    "    for k in range(i, n-1):\n",
    "        print(' '*len('sudh'), end =' ')\n",
    "    \n",
    "\n",
    "    print()"
   ]
  },
  {
   "cell_type": "code",
   "execution_count": null,
   "id": "e126c30d",
   "metadata": {},
   "outputs": [],
   "source": []
  }
 ],
 "metadata": {
  "kernelspec": {
   "display_name": "Python 3 (ipykernel)",
   "language": "python",
   "name": "python3"
  },
  "language_info": {
   "codemirror_mode": {
    "name": "ipython",
    "version": 3
   },
   "file_extension": ".py",
   "mimetype": "text/x-python",
   "name": "python",
   "nbconvert_exporter": "python",
   "pygments_lexer": "ipython3",
   "version": "3.9.12"
  }
 },
 "nbformat": 4,
 "nbformat_minor": 5
}
